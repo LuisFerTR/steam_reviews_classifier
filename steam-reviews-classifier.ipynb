{
 "cells": [
  {
   "cell_type": "markdown",
   "id": "9125a4b2",
   "metadata": {
    "_execution_state": "idle",
    "_uuid": "051d70d956493feee0c6d64651c6a088724dca2a",
    "papermill": {
     "duration": 0.012677,
     "end_time": "2023-04-06T01:56:04.720127",
     "exception": false,
     "start_time": "2023-04-06T01:56:04.707450",
     "status": "completed"
    },
    "tags": []
   },
   "source": [
    "# A Steam reviews classifier using Naive Bayes\n",
    "\n",
    "<div style=\"text-align: justify\">\n",
    "Steam is a digital platform for the purchase of video games online. It is run by video game developer Valve.\n",
    "\n",
    "Steam is one of the main options for purchasing video games online and has millions of active users every month.\n",
    "\n",
    "One of the most important features of Steam is its review system. This system helps the user to decide whether to buy a game or not based on the experiences and recommendations of buyers of the game.\n",
    "\n",
    "The review system classifies reviews as positive or negative, and cumulative reviews are classified as overhwelmingly positive, very positive, mostly positive, positive, mixed, overhwelmingly negative, very negative, mostly negative and negative.\n",
    "\n",
    "</div>"
   ]
  },
  {
   "cell_type": "markdown",
   "id": "bb3f624a",
   "metadata": {
    "papermill": {
     "duration": 0.010998,
     "end_time": "2023-04-06T01:56:04.742694",
     "exception": false,
     "start_time": "2023-04-06T01:56:04.731696",
     "status": "completed"
    },
    "tags": []
   },
   "source": [
    "This notebook presents step by step how to build a review classifier system using the **Naïve Bayes algorithm**."
   ]
  },
  {
   "cell_type": "markdown",
   "id": "4c8b7247",
   "metadata": {
    "papermill": {
     "duration": 0.010947,
     "end_time": "2023-04-06T01:56:04.764987",
     "exception": false,
     "start_time": "2023-04-06T01:56:04.754040",
     "status": "completed"
    },
    "tags": []
   },
   "source": [
    "# Importing the data\n",
    "The data to train the model were obtained from the \"Steam Reviews\" (Sobkowicz A., 2017) dataset available in Kaggle."
   ]
  },
  {
   "cell_type": "code",
   "execution_count": 1,
   "id": "1350e8fa",
   "metadata": {
    "execution": {
     "iopub.execute_input": "2023-04-06T01:56:04.790734Z",
     "iopub.status.busy": "2023-04-06T01:56:04.790318Z",
     "iopub.status.idle": "2023-04-06T01:56:59.463538Z",
     "shell.execute_reply": "2023-04-06T01:56:59.461961Z"
    },
    "papermill": {
     "duration": 54.689356,
     "end_time": "2023-04-06T01:56:59.466906",
     "exception": false,
     "start_time": "2023-04-06T01:56:04.777550",
     "status": "completed"
    },
    "tags": []
   },
   "outputs": [],
   "source": [
    "import pandas as pd\n",
    "\n",
    "steam_reviews = pd.read_csv('/kaggle/input/steam-reviews/dataset.csv') "
   ]
  },
  {
   "cell_type": "code",
   "execution_count": 2,
   "id": "e3b10d12",
   "metadata": {
    "execution": {
     "iopub.execute_input": "2023-04-06T01:56:59.492587Z",
     "iopub.status.busy": "2023-04-06T01:56:59.492159Z",
     "iopub.status.idle": "2023-04-06T01:56:59.523013Z",
     "shell.execute_reply": "2023-04-06T01:56:59.521623Z"
    },
    "papermill": {
     "duration": 0.047185,
     "end_time": "2023-04-06T01:56:59.525700",
     "exception": false,
     "start_time": "2023-04-06T01:56:59.478515",
     "status": "completed"
    },
    "tags": []
   },
   "outputs": [
    {
     "data": {
      "text/html": [
       "<div>\n",
       "<style scoped>\n",
       "    .dataframe tbody tr th:only-of-type {\n",
       "        vertical-align: middle;\n",
       "    }\n",
       "\n",
       "    .dataframe tbody tr th {\n",
       "        vertical-align: top;\n",
       "    }\n",
       "\n",
       "    .dataframe thead th {\n",
       "        text-align: right;\n",
       "    }\n",
       "</style>\n",
       "<table border=\"1\" class=\"dataframe\">\n",
       "  <thead>\n",
       "    <tr style=\"text-align: right;\">\n",
       "      <th></th>\n",
       "      <th>app_id</th>\n",
       "      <th>app_name</th>\n",
       "      <th>review_text</th>\n",
       "      <th>review_score</th>\n",
       "      <th>review_votes</th>\n",
       "    </tr>\n",
       "  </thead>\n",
       "  <tbody>\n",
       "    <tr>\n",
       "      <th>0</th>\n",
       "      <td>10</td>\n",
       "      <td>Counter-Strike</td>\n",
       "      <td>Ruined my life.</td>\n",
       "      <td>1</td>\n",
       "      <td>0</td>\n",
       "    </tr>\n",
       "    <tr>\n",
       "      <th>1</th>\n",
       "      <td>10</td>\n",
       "      <td>Counter-Strike</td>\n",
       "      <td>This will be more of a ''my experience with th...</td>\n",
       "      <td>1</td>\n",
       "      <td>1</td>\n",
       "    </tr>\n",
       "    <tr>\n",
       "      <th>2</th>\n",
       "      <td>10</td>\n",
       "      <td>Counter-Strike</td>\n",
       "      <td>This game saved my virginity.</td>\n",
       "      <td>1</td>\n",
       "      <td>0</td>\n",
       "    </tr>\n",
       "    <tr>\n",
       "      <th>3</th>\n",
       "      <td>10</td>\n",
       "      <td>Counter-Strike</td>\n",
       "      <td>• Do you like original games? • Do you like ga...</td>\n",
       "      <td>1</td>\n",
       "      <td>0</td>\n",
       "    </tr>\n",
       "    <tr>\n",
       "      <th>4</th>\n",
       "      <td>10</td>\n",
       "      <td>Counter-Strike</td>\n",
       "      <td>Easy to learn, hard to master.</td>\n",
       "      <td>1</td>\n",
       "      <td>1</td>\n",
       "    </tr>\n",
       "  </tbody>\n",
       "</table>\n",
       "</div>"
      ],
      "text/plain": [
       "   app_id        app_name                                        review_text  \\\n",
       "0      10  Counter-Strike                                    Ruined my life.   \n",
       "1      10  Counter-Strike  This will be more of a ''my experience with th...   \n",
       "2      10  Counter-Strike                      This game saved my virginity.   \n",
       "3      10  Counter-Strike  • Do you like original games? • Do you like ga...   \n",
       "4      10  Counter-Strike           Easy to learn, hard to master.             \n",
       "\n",
       "   review_score  review_votes  \n",
       "0             1             0  \n",
       "1             1             1  \n",
       "2             1             0  \n",
       "3             1             0  \n",
       "4             1             1  "
      ]
     },
     "execution_count": 2,
     "metadata": {},
     "output_type": "execute_result"
    }
   ],
   "source": [
    "steam_reviews.head()"
   ]
  },
  {
   "cell_type": "markdown",
   "id": "4177fa88",
   "metadata": {
    "papermill": {
     "duration": 0.011229,
     "end_time": "2023-04-06T01:56:59.548867",
     "exception": false,
     "start_time": "2023-04-06T01:56:59.537638",
     "status": "completed"
    },
    "tags": []
   },
   "source": [
    "# Exploratory data analysis"
   ]
  },
  {
   "cell_type": "markdown",
   "id": "60c903d1",
   "metadata": {
    "papermill": {
     "duration": 0.011322,
     "end_time": "2023-04-06T01:56:59.571717",
     "exception": false,
     "start_time": "2023-04-06T01:56:59.560395",
     "status": "completed"
    },
    "tags": []
   },
   "source": [
    "Once, we have imported the dataset is time to analyze the features and their content starting from the features names."
   ]
  },
  {
   "cell_type": "code",
   "execution_count": 3,
   "id": "fbefdb8e",
   "metadata": {
    "execution": {
     "iopub.execute_input": "2023-04-06T01:56:59.597041Z",
     "iopub.status.busy": "2023-04-06T01:56:59.596618Z",
     "iopub.status.idle": "2023-04-06T01:56:59.603994Z",
     "shell.execute_reply": "2023-04-06T01:56:59.602820Z"
    },
    "papermill": {
     "duration": 0.022829,
     "end_time": "2023-04-06T01:56:59.606283",
     "exception": false,
     "start_time": "2023-04-06T01:56:59.583454",
     "status": "completed"
    },
    "tags": []
   },
   "outputs": [
    {
     "data": {
      "text/plain": [
       "['app_id', 'app_name', 'review_text', 'review_score', 'review_votes']"
      ]
     },
     "execution_count": 3,
     "metadata": {},
     "output_type": "execute_result"
    }
   ],
   "source": [
    "list(steam_reviews.columns)"
   ]
  },
  {
   "cell_type": "markdown",
   "id": "162c062f",
   "metadata": {
    "papermill": {
     "duration": 0.011315,
     "end_time": "2023-04-06T01:56:59.629292",
     "exception": false,
     "start_time": "2023-04-06T01:56:59.617977",
     "status": "completed"
    },
    "tags": []
   },
   "source": [
    "- app_id: Game ID.\n",
    "- app_name: Game name.\n",
    "- review_text: Text of the review.\n",
    "- review_score: Whether the review recommends the game or not.\n",
    "- review_votes: Whether the review was recommended by another user or not."
   ]
  },
  {
   "cell_type": "markdown",
   "id": "412dfde0",
   "metadata": {
    "papermill": {
     "duration": 0.011293,
     "end_time": "2023-04-06T01:56:59.652310",
     "exception": false,
     "start_time": "2023-04-06T01:56:59.641017",
     "status": "completed"
    },
    "tags": []
   },
   "source": [
    "Number of dataset rows"
   ]
  },
  {
   "cell_type": "code",
   "execution_count": 4,
   "id": "e8589bce",
   "metadata": {
    "execution": {
     "iopub.execute_input": "2023-04-06T01:56:59.678962Z",
     "iopub.status.busy": "2023-04-06T01:56:59.677639Z",
     "iopub.status.idle": "2023-04-06T01:56:59.684526Z",
     "shell.execute_reply": "2023-04-06T01:56:59.683408Z"
    },
    "papermill": {
     "duration": 0.022447,
     "end_time": "2023-04-06T01:56:59.686678",
     "exception": false,
     "start_time": "2023-04-06T01:56:59.664231",
     "status": "completed"
    },
    "tags": []
   },
   "outputs": [
    {
     "data": {
      "text/plain": [
       "6417106"
      ]
     },
     "execution_count": 4,
     "metadata": {},
     "output_type": "execute_result"
    }
   ],
   "source": [
    "rows = len(steam_reviews.index)\n",
    "rows"
   ]
  },
  {
   "cell_type": "markdown",
   "id": "5b2cd107",
   "metadata": {
    "papermill": {
     "duration": 0.011848,
     "end_time": "2023-04-06T01:56:59.710409",
     "exception": false,
     "start_time": "2023-04-06T01:56:59.698561",
     "status": "completed"
    },
    "tags": []
   },
   "source": [
    "Possible values of column \"review_score\"."
   ]
  },
  {
   "cell_type": "code",
   "execution_count": 5,
   "id": "d15d3913",
   "metadata": {
    "execution": {
     "iopub.execute_input": "2023-04-06T01:56:59.736488Z",
     "iopub.status.busy": "2023-04-06T01:56:59.736069Z",
     "iopub.status.idle": "2023-04-06T01:56:59.786999Z",
     "shell.execute_reply": "2023-04-06T01:56:59.785845Z"
    },
    "papermill": {
     "duration": 0.067145,
     "end_time": "2023-04-06T01:56:59.789438",
     "exception": false,
     "start_time": "2023-04-06T01:56:59.722293",
     "status": "completed"
    },
    "tags": []
   },
   "outputs": [
    {
     "data": {
      "text/plain": [
       "[1, -1]"
      ]
     },
     "execution_count": 5,
     "metadata": {},
     "output_type": "execute_result"
    }
   ],
   "source": [
    "list(pd.unique(steam_reviews['review_score']))"
   ]
  },
  {
   "cell_type": "markdown",
   "id": "dc1eb284",
   "metadata": {
    "papermill": {
     "duration": 0.01156,
     "end_time": "2023-04-06T01:56:59.813262",
     "exception": false,
     "start_time": "2023-04-06T01:56:59.801702",
     "status": "completed"
    },
    "tags": []
   },
   "source": [
    "We can see the positive reviews are recorded with a value of 1 and negative reviews are recorded with a value of -1."
   ]
  },
  {
   "cell_type": "markdown",
   "id": "25e3780d",
   "metadata": {
    "papermill": {
     "duration": 0.011529,
     "end_time": "2023-04-06T01:56:59.836690",
     "exception": false,
     "start_time": "2023-04-06T01:56:59.825161",
     "status": "completed"
    },
    "tags": []
   },
   "source": [
    "Let's explore the number of games."
   ]
  },
  {
   "cell_type": "code",
   "execution_count": 6,
   "id": "b5d662d0",
   "metadata": {
    "execution": {
     "iopub.execute_input": "2023-04-06T01:56:59.862843Z",
     "iopub.status.busy": "2023-04-06T01:56:59.861966Z",
     "iopub.status.idle": "2023-04-06T01:57:00.150403Z",
     "shell.execute_reply": "2023-04-06T01:57:00.149459Z"
    },
    "papermill": {
     "duration": 0.303916,
     "end_time": "2023-04-06T01:57:00.152537",
     "exception": false,
     "start_time": "2023-04-06T01:56:59.848621",
     "status": "completed"
    },
    "tags": []
   },
   "outputs": [
    {
     "data": {
      "text/plain": [
       "9364"
      ]
     },
     "execution_count": 6,
     "metadata": {},
     "output_type": "execute_result"
    }
   ],
   "source": [
    "games = pd.unique(steam_reviews['app_name'])\n",
    "games_count = len(games)\n",
    "games_count"
   ]
  },
  {
   "cell_type": "code",
   "execution_count": 7,
   "id": "60a69609",
   "metadata": {
    "execution": {
     "iopub.execute_input": "2023-04-06T01:57:00.178426Z",
     "iopub.status.busy": "2023-04-06T01:57:00.177983Z",
     "iopub.status.idle": "2023-04-06T01:57:00.447022Z",
     "shell.execute_reply": "2023-04-06T01:57:00.445753Z"
    },
    "papermill": {
     "duration": 0.285596,
     "end_time": "2023-04-06T01:57:00.450150",
     "exception": false,
     "start_time": "2023-04-06T01:57:00.164554",
     "status": "completed"
    },
    "tags": []
   },
   "outputs": [],
   "source": [
    "import numpy as np\n",
    "\n",
    "np.random.seed(2810)\n",
    "sample_size = 150000\n",
    "\n",
    "sample_id = np.random.randint(0, rows, sample_size)\n",
    "\n",
    "sample_data = steam_reviews.loc[sample_id, ['review_text', 'review_score']]"
   ]
  },
  {
   "cell_type": "markdown",
   "id": "6494370e",
   "metadata": {
    "papermill": {
     "duration": 0.011668,
     "end_time": "2023-04-06T01:57:00.474011",
     "exception": false,
     "start_time": "2023-04-06T01:57:00.462343",
     "status": "completed"
    },
    "tags": []
   },
   "source": [
    "### Positive reviews number vs Negative reviews number"
   ]
  },
  {
   "cell_type": "markdown",
   "id": "75d01075",
   "metadata": {
    "papermill": {
     "duration": 0.011654,
     "end_time": "2023-04-06T01:57:00.497641",
     "exception": false,
     "start_time": "2023-04-06T01:57:00.485987",
     "status": "completed"
    },
    "tags": []
   },
   "source": [
    "Let's explore the number of positive and negative reviews in subset."
   ]
  },
  {
   "cell_type": "code",
   "execution_count": 8,
   "id": "61c7728b",
   "metadata": {
    "execution": {
     "iopub.execute_input": "2023-04-06T01:57:00.523833Z",
     "iopub.status.busy": "2023-04-06T01:57:00.523421Z",
     "iopub.status.idle": "2023-04-06T01:57:00.551183Z",
     "shell.execute_reply": "2023-04-06T01:57:00.549853Z"
    },
    "papermill": {
     "duration": 0.043889,
     "end_time": "2023-04-06T01:57:00.553555",
     "exception": false,
     "start_time": "2023-04-06T01:57:00.509666",
     "status": "completed"
    },
    "tags": []
   },
   "outputs": [
    {
     "data": {
      "text/html": [
       "<div>\n",
       "<style scoped>\n",
       "    .dataframe tbody tr th:only-of-type {\n",
       "        vertical-align: middle;\n",
       "    }\n",
       "\n",
       "    .dataframe tbody tr th {\n",
       "        vertical-align: top;\n",
       "    }\n",
       "\n",
       "    .dataframe thead th {\n",
       "        text-align: right;\n",
       "    }\n",
       "</style>\n",
       "<table border=\"1\" class=\"dataframe\">\n",
       "  <thead>\n",
       "    <tr style=\"text-align: right;\">\n",
       "      <th></th>\n",
       "      <th>review_score</th>\n",
       "      <th>count</th>\n",
       "      <th>proportion</th>\n",
       "    </tr>\n",
       "  </thead>\n",
       "  <tbody>\n",
       "    <tr>\n",
       "      <th>0</th>\n",
       "      <td>1</td>\n",
       "      <td>122953</td>\n",
       "      <td>0.819687</td>\n",
       "    </tr>\n",
       "    <tr>\n",
       "      <th>1</th>\n",
       "      <td>-1</td>\n",
       "      <td>27047</td>\n",
       "      <td>0.180313</td>\n",
       "    </tr>\n",
       "  </tbody>\n",
       "</table>\n",
       "</div>"
      ],
      "text/plain": [
       "   review_score   count  proportion\n",
       "0             1  122953    0.819687\n",
       "1            -1   27047    0.180313"
      ]
     },
     "execution_count": 8,
     "metadata": {},
     "output_type": "execute_result"
    }
   ],
   "source": [
    "vc = sample_data['review_score'].value_counts().reset_index(name='count')\n",
    "vcn = sample_data['review_score'].value_counts(normalize=True).reset_index(name='proportion')\n",
    "\n",
    "review_score_stats = pd.merge(vc, vcn, on='index')\n",
    "review_score_stats.rename(columns={'index': 'review_score'}, inplace=True)\n",
    "review_score_stats"
   ]
  },
  {
   "cell_type": "code",
   "execution_count": 9,
   "id": "dae470ed",
   "metadata": {
    "_kg_hide-input": true,
    "execution": {
     "iopub.execute_input": "2023-04-06T01:57:00.580145Z",
     "iopub.status.busy": "2023-04-06T01:57:00.579428Z",
     "iopub.status.idle": "2023-04-06T01:57:00.943784Z",
     "shell.execute_reply": "2023-04-06T01:57:00.942551Z"
    },
    "papermill": {
     "duration": 0.380827,
     "end_time": "2023-04-06T01:57:00.946473",
     "exception": false,
     "start_time": "2023-04-06T01:57:00.565646",
     "status": "completed"
    },
    "tags": []
   },
   "outputs": [
    {
     "data": {
      "image/png": "[encoded data removed]",
      "text/plain": [
       "<Figure size 640x480 with 2 Axes>"
      ]
     },
     "metadata": {},
     "output_type": "display_data"
    }
   ],
   "source": [
    "import matplotlib.pyplot as plt\n",
    "\n",
    "kind = 'bar'\n",
    "bar_color = [\"#09BEC5\", \"#FF7065\"]\n",
    "\n",
    "fig, axes = plt.subplots(nrows=1,ncols=2)\n",
    "\n",
    "review_score_stats.plot(x='review_score', \n",
    "                        y='count', \n",
    "                        ax = axes[0], \n",
    "                        kind=kind, \n",
    "                        color=bar_color, \n",
    "                        subplots=True,\n",
    "                        legend=False)\n",
    "\n",
    "review_score_stats.plot(x='review_score', \n",
    "                        y='proportion', \n",
    "                        ax = axes[1], \n",
    "                        kind=kind, \n",
    "                        color=bar_color, \n",
    "                        subplots=True, \n",
    "                        legend=False)\n",
    "\n",
    "plt.show()"
   ]
  },
  {
   "cell_type": "markdown",
   "id": "89616f0b",
   "metadata": {
    "papermill": {
     "duration": 0.012536,
     "end_time": "2023-04-06T01:57:00.972035",
     "exception": false,
     "start_time": "2023-04-06T01:57:00.959499",
     "status": "completed"
    },
    "tags": []
   },
   "source": [
    "We can see that there are many more positive reviews than negative ones."
   ]
  },
  {
   "cell_type": "markdown",
   "id": "d0e894c6",
   "metadata": {
    "papermill": {
     "duration": 0.012384,
     "end_time": "2023-04-06T01:57:00.997578",
     "exception": false,
     "start_time": "2023-04-06T01:57:00.985194",
     "status": "completed"
    },
    "tags": []
   },
   "source": [
    "### Common reviews"
   ]
  },
  {
   "cell_type": "markdown",
   "id": "d3dca07d",
   "metadata": {
    "papermill": {
     "duration": 0.012454,
     "end_time": "2023-04-06T01:57:01.022783",
     "exception": false,
     "start_time": "2023-04-06T01:57:01.010329",
     "status": "completed"
    },
    "tags": []
   },
   "source": [
    "Let's analyze the information for repeated reviews."
   ]
  },
  {
   "cell_type": "code",
   "execution_count": 10,
   "id": "114fbd29",
   "metadata": {
    "execution": {
     "iopub.execute_input": "2023-04-06T01:57:01.050118Z",
     "iopub.status.busy": "2023-04-06T01:57:01.049660Z",
     "iopub.status.idle": "2023-04-06T01:57:01.305886Z",
     "shell.execute_reply": "2023-04-06T01:57:01.304522Z"
    },
    "papermill": {
     "duration": 0.273099,
     "end_time": "2023-04-06T01:57:01.308549",
     "exception": false,
     "start_time": "2023-04-06T01:57:01.035450",
     "status": "completed"
    },
    "tags": []
   },
   "outputs": [
    {
     "data": {
      "text/html": [
       "<div>\n",
       "<style scoped>\n",
       "    .dataframe tbody tr th:only-of-type {\n",
       "        vertical-align: middle;\n",
       "    }\n",
       "\n",
       "    .dataframe tbody tr th {\n",
       "        vertical-align: top;\n",
       "    }\n",
       "\n",
       "    .dataframe thead th {\n",
       "        text-align: right;\n",
       "    }\n",
       "</style>\n",
       "<table border=\"1\" class=\"dataframe\">\n",
       "  <thead>\n",
       "    <tr style=\"text-align: right;\">\n",
       "      <th></th>\n",
       "      <th>text</th>\n",
       "      <th>count</th>\n",
       "    </tr>\n",
       "  </thead>\n",
       "  <tbody>\n",
       "    <tr>\n",
       "      <th>0</th>\n",
       "      <td>Early Access Review</td>\n",
       "      <td>23463</td>\n",
       "    </tr>\n",
       "    <tr>\n",
       "      <th>1</th>\n",
       "      <td>Early Access Review</td>\n",
       "      <td>266</td>\n",
       "    </tr>\n",
       "    <tr>\n",
       "      <th>2</th>\n",
       "      <td>10/10</td>\n",
       "      <td>127</td>\n",
       "    </tr>\n",
       "    <tr>\n",
       "      <th>3</th>\n",
       "      <td>.</td>\n",
       "      <td>106</td>\n",
       "    </tr>\n",
       "    <tr>\n",
       "      <th>4</th>\n",
       "      <td>great game</td>\n",
       "      <td>91</td>\n",
       "    </tr>\n",
       "    <tr>\n",
       "      <th>5</th>\n",
       "      <td>Great game</td>\n",
       "      <td>91</td>\n",
       "    </tr>\n",
       "    <tr>\n",
       "      <th>6</th>\n",
       "      <td>:)</td>\n",
       "      <td>56</td>\n",
       "    </tr>\n",
       "    <tr>\n",
       "      <th>7</th>\n",
       "      <td>Great game!</td>\n",
       "      <td>53</td>\n",
       "    </tr>\n",
       "    <tr>\n",
       "      <th>8</th>\n",
       "      <td>Great game.</td>\n",
       "      <td>49</td>\n",
       "    </tr>\n",
       "    <tr>\n",
       "      <th>9</th>\n",
       "      <td>♥♥♥♥</td>\n",
       "      <td>43</td>\n",
       "    </tr>\n",
       "  </tbody>\n",
       "</table>\n",
       "</div>"
      ],
      "text/plain": [
       "                     text  count\n",
       "0     Early Access Review  23463\n",
       "1     Early Access Review    266\n",
       "2                   10/10    127\n",
       "3                       .    106\n",
       "4              great game     91\n",
       "5              Great game     91\n",
       "6                      :)     56\n",
       "7             Great game!     53\n",
       "8             Great game.     49\n",
       "9                    ♥♥♥♥     43"
      ]
     },
     "execution_count": 10,
     "metadata": {},
     "output_type": "execute_result"
    }
   ],
   "source": [
    "# Lowercase review text\n",
    "reviews_text = sample_data['review_text'].reset_index(name='text')\n",
    "\n",
    "# Count occurrences of review text\n",
    "tc = reviews_text['text'].value_counts().reset_index(name='count')\n",
    "tc.rename(columns={'index': 'text'}, inplace=True)\n",
    "tc.head(10)"
   ]
  },
  {
   "cell_type": "markdown",
   "id": "7b000cc1",
   "metadata": {
    "papermill": {
     "duration": 0.012606,
     "end_time": "2023-04-06T01:57:01.334226",
     "exception": false,
     "start_time": "2023-04-06T01:57:01.321620",
     "status": "completed"
    },
    "tags": []
   },
   "source": [
    "As shown in the table, the text \"early access review\" is repeated too much, this text does not add information to the model, so it will be removed later."
   ]
  },
  {
   "cell_type": "markdown",
   "id": "7aff51de",
   "metadata": {
    "papermill": {
     "duration": 0.012593,
     "end_time": "2023-04-06T01:57:01.360056",
     "exception": false,
     "start_time": "2023-04-06T01:57:01.347463",
     "status": "completed"
    },
    "tags": []
   },
   "source": [
    "# Preparing the data"
   ]
  },
  {
   "cell_type": "markdown",
   "id": "40aec9ae",
   "metadata": {
    "papermill": {
     "duration": 0.012512,
     "end_time": "2023-04-06T01:57:01.385505",
     "exception": false,
     "start_time": "2023-04-06T01:57:01.372993",
     "status": "completed"
    },
    "tags": []
   },
   "source": [
    "<div style=\"text-align: justify\">\n",
    "Before creating the model and training it, we must preprocess the text of the reviews. This is in order to reduce the amount of data needed to train the model and improve the accuracy of the model.\n",
    "</div>\n",
    "\n",
    "### Preprocessing steps\n",
    "- Lowercase\n",
    "- Remove punctuation\n",
    "- Remove stop words\n",
    "- Stemming\n",
    "- Tokenize sentences\n"
   ]
  },
  {
   "cell_type": "code",
   "execution_count": 11,
   "id": "5570bad2",
   "metadata": {
    "_kg_hide-input": true,
    "execution": {
     "iopub.execute_input": "2023-04-06T01:57:01.414472Z",
     "iopub.status.busy": "2023-04-06T01:57:01.413589Z",
     "iopub.status.idle": "2023-04-06T01:57:01.418248Z",
     "shell.execute_reply": "2023-04-06T01:57:01.417232Z"
    },
    "papermill": {
     "duration": 0.022128,
     "end_time": "2023-04-06T01:57:01.420731",
     "exception": false,
     "start_time": "2023-04-06T01:57:01.398603",
     "status": "completed"
    },
    "tags": []
   },
   "outputs": [],
   "source": [
    "import sys\n",
    "sys.path.insert(1, \"/kaggle/input/contraction-map\")"
   ]
  },
  {
   "cell_type": "code",
   "execution_count": 12,
   "id": "d5ad0fba",
   "metadata": {
    "execution": {
     "iopub.execute_input": "2023-04-06T01:57:01.448791Z",
     "iopub.status.busy": "2023-04-06T01:57:01.448358Z",
     "iopub.status.idle": "2023-04-06T01:57:01.455182Z",
     "shell.execute_reply": "2023-04-06T01:57:01.453848Z"
    },
    "papermill": {
     "duration": 0.023648,
     "end_time": "2023-04-06T01:57:01.457593",
     "exception": false,
     "start_time": "2023-04-06T01:57:01.433945",
     "status": "completed"
    },
    "tags": []
   },
   "outputs": [],
   "source": [
    "def remove_emoji(text):\n",
    "    emoji_pattern = re.compile(\"[\"\n",
    "                        u\"\\U0001F600-\\U0001F64F\"  # emoticons\n",
    "                        u\"\\U0001F300-\\U0001F5FF\"  # symbols & pictographs\n",
    "                        u\"\\U0001F680-\\U0001F6FF\"  # transport & map symbols\n",
    "                        u\"\\U0001F1E0-\\U0001F1FF\"  # flags (iOS)\n",
    "                        u\"\\U00002702-\\U000027B0\"\n",
    "                        u\"\\U000024C2-\\U0001F251\"\n",
    "                        u\"\\U0001f926-\\U0001f937\"\n",
    "                        u\"\\U0001F1F2\"\n",
    "                        u\"\\U0001F1F4\"\n",
    "                        u\"\\U0001F620\"\n",
    "                        u\"\\u200d\"\n",
    "                        u\"\\u2640-\\u2642\"\n",
    "                        u\"\\u2600-\\u2B55\"\n",
    "                        u\"\\u23cf\"\n",
    "                        u\"\\u23e9\"\n",
    "                        u\"\\u231a\"\n",
    "                        u\"\\ufe0f\"  # dingbats\n",
    "                        u\"\\u3030\"\n",
    "                        u\"\\U00002500-\\U00002BEF\"  # Chinese char\n",
    "                        u\"\\U00010000-\\U0010ffff\"\n",
    "                        \"]+\", flags=re.UNICODE)\n",
    "    \n",
    "    return emoji_pattern.sub(r'', text)"
   ]
  },
  {
   "cell_type": "code",
   "execution_count": 13,
   "id": "b12dfadc",
   "metadata": {
    "execution": {
     "iopub.execute_input": "2023-04-06T01:57:01.485725Z",
     "iopub.status.busy": "2023-04-06T01:57:01.484979Z",
     "iopub.status.idle": "2023-04-06T01:57:01.508665Z",
     "shell.execute_reply": "2023-04-06T01:57:01.507545Z"
    },
    "papermill": {
     "duration": 0.040647,
     "end_time": "2023-04-06T01:57:01.511276",
     "exception": false,
     "start_time": "2023-04-06T01:57:01.470629",
     "status": "completed"
    },
    "tags": []
   },
   "outputs": [],
   "source": [
    "from contractions import CONTRACTION_MAP\n",
    "import re\n",
    "\n",
    "\"\"\"\n",
    "Open source code from Sarkar (2018)\n",
    "Sarkar, D (2018, August 3rd). \n",
    "Text Wrangling & Pre-processing: A Practitioner’s Guide to NLP. KDnuggets. \n",
    "Recuperado 6 de marzo de 2023, de https://www.kdnuggets.com/2018/08/practitioners-guide-processing-understanding-text-2.html\n",
    "\"\"\"\n",
    "\n",
    "def expand_contractions(text, contraction_mapping=CONTRACTION_MAP):\n",
    "    \n",
    "    contractions_pattern = re.compile('({})'.format('|'.join(contraction_mapping.keys())), \n",
    "                                      flags=re.IGNORECASE|re.DOTALL)\n",
    "    def expand_match(contraction):\n",
    "        match = contraction.group(0)\n",
    "        first_char = match[0]\n",
    "        expanded_contraction = contraction_mapping.get(match)\\\n",
    "                                if contraction_mapping.get(match)\\\n",
    "                                else contraction_mapping.get(match.lower())                       \n",
    "        expanded_contraction = first_char+expanded_contraction[1:]\n",
    "        return expanded_contraction\n",
    "        \n",
    "    expanded_text = contractions_pattern.sub(expand_match, text)\n",
    "    expanded_text = re.sub(\"'\", \"\", expanded_text)\n",
    "    return expanded_text"
   ]
  },
  {
   "cell_type": "code",
   "execution_count": 14,
   "id": "9a6d14f6",
   "metadata": {
    "execution": {
     "iopub.execute_input": "2023-04-06T01:57:01.539684Z",
     "iopub.status.busy": "2023-04-06T01:57:01.539288Z",
     "iopub.status.idle": "2023-04-06T01:57:01.555167Z",
     "shell.execute_reply": "2023-04-06T01:57:01.554128Z"
    },
    "papermill": {
     "duration": 0.033154,
     "end_time": "2023-04-06T01:57:01.557677",
     "exception": false,
     "start_time": "2023-04-06T01:57:01.524523",
     "status": "completed"
    },
    "tags": []
   },
   "outputs": [],
   "source": [
    "from unidecode import unidecode\n",
    "\n",
    "import string\n",
    "\n",
    "def preprocess_review(review):\n",
    "    \"\"\"\n",
    "    Return a cleaned text (string).\n",
    "    \n",
    "    Input\n",
    "    review: A review text string.\n",
    "    -----------------------------------------\n",
    "    Output\n",
    "    preprocessed_review: A string without digits, \n",
    "    emojis and expanded contractions.\n",
    "    \"\"\"\n",
    "    preproc_review = review.lower() # Lowecase\n",
    "    \n",
    "    # Replace happy and sad emoticons by \"happy\" and \"sad\" words.\n",
    "    SAD_FACE = [':(', ':c']\n",
    "    HAPPY_FACE = [':)', ':D']\n",
    "    \n",
    "    for face in SAD_FACE:\n",
    "        if face in preproc_review:\n",
    "                preproc_review = preproc_review.replace(face, 'sad')\n",
    "                \n",
    "    for face in HAPPY_FACE:\n",
    "        if face in review:\n",
    "                preproc_review = preproc_review.replace(face, 'happy')\n",
    "        \n",
    "    # Replace ratings by words\n",
    "    for match in re.finditer(r'([0-9][0-9]?(\\.[0-9])?|100?)\\/(100?)', preproc_review):\n",
    "        numerator =  match.group(1)\n",
    "        denominator = match.group(3)\n",
    "        rating = float(numerator) / float(denominator)\n",
    "        \n",
    "        repl_str = f'{numerator}/{denominator}'\n",
    "        \n",
    "        if rating < 0.5:\n",
    "            preproc_review = preproc_review.replace(repl_str, 'terrible')\n",
    "        elif rating < 0.6:\n",
    "            preproc_review = preproc_review.replace(repl_str, 'bad')\n",
    "        elif rating < 0.8:\n",
    "            preproc_review = preproc_review.replace(repl_str, 'okay')\n",
    "        elif rating < 1:\n",
    "            preproc_review = preproc_review.replace(repl_str, 'good')\n",
    "        else:\n",
    "            preproc_review = preproc_review.replace(repl_str, 'excellent')\n",
    "    \n",
    "    # Remove digits\n",
    "    preproc_review = preproc_review.translate(str.maketrans('', '', '0123456789'))\n",
    "    \n",
    "    # Remove emojis\n",
    "    preproc_review = remove_emoji(preproc_review)\n",
    "    \n",
    "    # Decode unicode letters to ASCII letters, eg.'İ,Ö,Ü,Ş,Ç,Ğ' -> 'I,O,U,S,C,G'\n",
    "    preproc_review = unidecode(preproc_review)\n",
    "    \n",
    "    # Expand contractions to avoid losing important information\n",
    "    preproc_review = expand_contractions(preproc_review)\n",
    "    \n",
    "    # Remove punctuation\n",
    "    preproc_review = preproc_review.translate(str.maketrans('', '', string.punctuation))\n",
    "        \n",
    "    return preproc_review"
   ]
  },
  {
   "cell_type": "code",
   "execution_count": 15,
   "id": "858b5e35",
   "metadata": {
    "execution": {
     "iopub.execute_input": "2023-04-06T01:57:01.585180Z",
     "iopub.status.busy": "2023-04-06T01:57:01.584732Z",
     "iopub.status.idle": "2023-04-06T01:57:03.177811Z",
     "shell.execute_reply": "2023-04-06T01:57:03.176684Z"
    },
    "papermill": {
     "duration": 1.610193,
     "end_time": "2023-04-06T01:57:03.180715",
     "exception": false,
     "start_time": "2023-04-06T01:57:01.570522",
     "status": "completed"
    },
    "tags": []
   },
   "outputs": [],
   "source": [
    "from nltk.stem import PorterStemmer\n",
    "from nltk.tokenize import word_tokenize\n",
    "\n",
    "def stem_tokenizer(review):\n",
    "    \"\"\"\n",
    "    Return a collection of stemmed tokens extracted from a review.\n",
    "    \n",
    "    Input\n",
    "    review: A review text string.\n",
    "    --------------------------------------------------------------\n",
    "    Output\n",
    "    A list of strings.\n",
    "    \"\"\"\n",
    "    # Tokenization\n",
    "    review_tokens = word_tokenize(review)\n",
    "        \n",
    "    ps = PorterStemmer()\n",
    "    \n",
    "    # Stemming\n",
    "    return [ps.stem(word) for word in review_tokens]"
   ]
  },
  {
   "cell_type": "markdown",
   "id": "ced70235",
   "metadata": {
    "papermill": {
     "duration": 0.012566,
     "end_time": "2023-04-06T01:57:03.206324",
     "exception": false,
     "start_time": "2023-04-06T01:57:03.193758",
     "status": "completed"
    },
    "tags": []
   },
   "source": [
    "### Preparing for training"
   ]
  },
  {
   "cell_type": "markdown",
   "id": "a1a3e127",
   "metadata": {
    "papermill": {
     "duration": 0.012532,
     "end_time": "2023-04-06T01:57:03.231744",
     "exception": false,
     "start_time": "2023-04-06T01:57:03.219212",
     "status": "completed"
    },
    "tags": []
   },
   "source": [
    "Once our functions are completed, it is necessary to prepare the data for training the model."
   ]
  },
  {
   "cell_type": "markdown",
   "id": "a56c55c9",
   "metadata": {
    "papermill": {
     "duration": 0.012601,
     "end_time": "2023-04-06T01:57:03.257140",
     "exception": false,
     "start_time": "2023-04-06T01:57:03.244539",
     "status": "completed"
    },
    "tags": []
   },
   "source": [
    "First, we are going to remove all \"Early Access Review\" entries."
   ]
  },
  {
   "cell_type": "code",
   "execution_count": 16,
   "id": "1fec9db4",
   "metadata": {
    "execution": {
     "iopub.execute_input": "2023-04-06T01:57:03.284820Z",
     "iopub.status.busy": "2023-04-06T01:57:03.284417Z",
     "iopub.status.idle": "2023-04-06T01:57:04.181207Z",
     "shell.execute_reply": "2023-04-06T01:57:04.179803Z"
    },
    "papermill": {
     "duration": 0.914204,
     "end_time": "2023-04-06T01:57:04.184242",
     "exception": false,
     "start_time": "2023-04-06T01:57:03.270038",
     "status": "completed"
    },
    "tags": []
   },
   "outputs": [],
   "source": [
    "data = steam_reviews.copy()\n",
    "data = data.loc[sample_id, ['review_text', 'review_score']]\n",
    "data = data[data['review_text'].str.contains('Early Access Review') == False]"
   ]
  },
  {
   "cell_type": "code",
   "execution_count": 17,
   "id": "7da1fed4",
   "metadata": {
    "execution": {
     "iopub.execute_input": "2023-04-06T01:57:04.212644Z",
     "iopub.status.busy": "2023-04-06T01:57:04.212229Z",
     "iopub.status.idle": "2023-04-06T01:57:04.409595Z",
     "shell.execute_reply": "2023-04-06T01:57:04.408123Z"
    },
    "papermill": {
     "duration": 0.214972,
     "end_time": "2023-04-06T01:57:04.412469",
     "exception": false,
     "start_time": "2023-04-06T01:57:04.197497",
     "status": "completed"
    },
    "tags": []
   },
   "outputs": [
    {
     "data": {
      "text/html": [
       "<div>\n",
       "<style scoped>\n",
       "    .dataframe tbody tr th:only-of-type {\n",
       "        vertical-align: middle;\n",
       "    }\n",
       "\n",
       "    .dataframe tbody tr th {\n",
       "        vertical-align: top;\n",
       "    }\n",
       "\n",
       "    .dataframe thead th {\n",
       "        text-align: right;\n",
       "    }\n",
       "</style>\n",
       "<table border=\"1\" class=\"dataframe\">\n",
       "  <thead>\n",
       "    <tr style=\"text-align: right;\">\n",
       "      <th></th>\n",
       "      <th>text</th>\n",
       "      <th>count</th>\n",
       "    </tr>\n",
       "  </thead>\n",
       "  <tbody>\n",
       "    <tr>\n",
       "      <th>0</th>\n",
       "      <td>10/10</td>\n",
       "      <td>127</td>\n",
       "    </tr>\n",
       "    <tr>\n",
       "      <th>1</th>\n",
       "      <td>.</td>\n",
       "      <td>106</td>\n",
       "    </tr>\n",
       "    <tr>\n",
       "      <th>2</th>\n",
       "      <td>great game</td>\n",
       "      <td>91</td>\n",
       "    </tr>\n",
       "    <tr>\n",
       "      <th>3</th>\n",
       "      <td>Great game</td>\n",
       "      <td>91</td>\n",
       "    </tr>\n",
       "    <tr>\n",
       "      <th>4</th>\n",
       "      <td>:)</td>\n",
       "      <td>56</td>\n",
       "    </tr>\n",
       "    <tr>\n",
       "      <th>5</th>\n",
       "      <td>Great game!</td>\n",
       "      <td>53</td>\n",
       "    </tr>\n",
       "    <tr>\n",
       "      <th>6</th>\n",
       "      <td>Great game.</td>\n",
       "      <td>49</td>\n",
       "    </tr>\n",
       "    <tr>\n",
       "      <th>7</th>\n",
       "      <td>♥♥♥♥</td>\n",
       "      <td>43</td>\n",
       "    </tr>\n",
       "    <tr>\n",
       "      <th>8</th>\n",
       "      <td>Great Game</td>\n",
       "      <td>42</td>\n",
       "    </tr>\n",
       "    <tr>\n",
       "      <th>9</th>\n",
       "      <td>Nice game</td>\n",
       "      <td>42</td>\n",
       "    </tr>\n",
       "  </tbody>\n",
       "</table>\n",
       "</div>"
      ],
      "text/plain": [
       "          text  count\n",
       "0        10/10    127\n",
       "1            .    106\n",
       "2   great game     91\n",
       "3   Great game     91\n",
       "4           :)     56\n",
       "5  Great game!     53\n",
       "6  Great game.     49\n",
       "7         ♥♥♥♥     43\n",
       "8   Great Game     42\n",
       "9    Nice game     42"
      ]
     },
     "execution_count": 17,
     "metadata": {},
     "output_type": "execute_result"
    }
   ],
   "source": [
    "reviews_text = data['review_text'].reset_index(name='text')\n",
    "\n",
    "# Count occurrences of review text\n",
    "tc = reviews_text['text'].value_counts().reset_index(name='count')\n",
    "tc.rename(columns={'index': 'text'}, inplace=True)\n",
    "tc.head(10)"
   ]
  },
  {
   "cell_type": "markdown",
   "id": "9ef6f395",
   "metadata": {
    "papermill": {
     "duration": 0.013344,
     "end_time": "2023-04-06T01:57:04.439040",
     "exception": false,
     "start_time": "2023-04-06T01:57:04.425696",
     "status": "completed"
    },
    "tags": []
   },
   "source": [
    "It can be seen that reviews containing \"Early Access Review\" have been removed."
   ]
  },
  {
   "cell_type": "markdown",
   "id": "77e4e7c1",
   "metadata": {
    "papermill": {
     "duration": 0.013263,
     "end_time": "2023-04-06T01:57:04.465780",
     "exception": false,
     "start_time": "2023-04-06T01:57:04.452517",
     "status": "completed"
    },
    "tags": []
   },
   "source": [
    "#### Splitting dataset"
   ]
  },
  {
   "cell_type": "markdown",
   "id": "fd1bfb9e",
   "metadata": {
    "papermill": {
     "duration": 0.01298,
     "end_time": "2023-04-06T01:57:04.492304",
     "exception": false,
     "start_time": "2023-04-06T01:57:04.479324",
     "status": "completed"
    },
    "tags": []
   },
   "source": [
    "We will divide the data into training data and test data."
   ]
  },
  {
   "cell_type": "code",
   "execution_count": 18,
   "id": "3d448bea",
   "metadata": {
    "execution": {
     "iopub.execute_input": "2023-04-06T01:57:04.525137Z",
     "iopub.status.busy": "2023-04-06T01:57:04.524685Z",
     "iopub.status.idle": "2023-04-06T01:57:04.567462Z",
     "shell.execute_reply": "2023-04-06T01:57:04.565983Z"
    },
    "papermill": {
     "duration": 0.065329,
     "end_time": "2023-04-06T01:57:04.570685",
     "exception": false,
     "start_time": "2023-04-06T01:57:04.505356",
     "status": "completed"
    },
    "tags": []
   },
   "outputs": [],
   "source": [
    "from sklearn.model_selection import train_test_split\n",
    "\n",
    "X = data.review_text\n",
    "y = data.review_score\n",
    "\n",
    "X_train, X_test, y_train, y_test = train_test_split(X, y, test_size=0.2)"
   ]
  },
  {
   "cell_type": "markdown",
   "id": "9064dc14",
   "metadata": {
    "papermill": {
     "duration": 0.014593,
     "end_time": "2023-04-06T01:57:04.598961",
     "exception": false,
     "start_time": "2023-04-06T01:57:04.584368",
     "status": "completed"
    },
    "tags": []
   },
   "source": [
    "The training data will contain 80% of the data and the test data will contain 20% of the data."
   ]
  },
  {
   "cell_type": "markdown",
   "id": "e05de8a5",
   "metadata": {
    "papermill": {
     "duration": 0.013033,
     "end_time": "2023-04-06T01:57:04.625718",
     "exception": false,
     "start_time": "2023-04-06T01:57:04.612685",
     "status": "completed"
    },
    "tags": []
   },
   "source": [
    "#### Creating feature matrix"
   ]
  },
  {
   "cell_type": "code",
   "execution_count": 19,
   "id": "f14bd1a7",
   "metadata": {
    "execution": {
     "iopub.execute_input": "2023-04-06T01:57:04.654816Z",
     "iopub.status.busy": "2023-04-06T01:57:04.654269Z",
     "iopub.status.idle": "2023-04-06T02:01:27.571233Z",
     "shell.execute_reply": "2023-04-06T02:01:27.569985Z"
    },
    "papermill": {
     "duration": 262.935285,
     "end_time": "2023-04-06T02:01:27.574393",
     "exception": false,
     "start_time": "2023-04-06T01:57:04.639108",
     "status": "completed"
    },
    "tags": []
   },
   "outputs": [],
   "source": [
    "from nltk.corpus import stopwords\n",
    "from sklearn.feature_extraction.text import CountVectorizer #, TfidfVectorizer\n",
    "\n",
    "new_stopwords = stopwords.words('english')\n",
    "new_stopwords.remove('no')\n",
    "new_stopwords.remove('not')\n",
    "new_stopwords.append('becaus') # \"Because\" misspelled\n",
    "\n",
    "custom_stopwords = []\n",
    "\n",
    "for w in new_stopwords:\n",
    "    custom_stopwords.append(stem_tokenizer(preprocess_review(w))[0])\n",
    "\n",
    "custom_vect = CountVectorizer(preprocessor=preprocess_review, \n",
    "                             tokenizer=stem_tokenizer,\n",
    "                             stop_words=custom_stopwords,\n",
    "                             max_features=5000)\n",
    "\n",
    "X_train_vect = custom_vect.fit_transform(X_train)"
   ]
  },
  {
   "cell_type": "markdown",
   "id": "83e78c87",
   "metadata": {
    "papermill": {
     "duration": 0.012834,
     "end_time": "2023-04-06T02:01:27.601499",
     "exception": false,
     "start_time": "2023-04-06T02:01:27.588665",
     "status": "completed"
    },
    "tags": []
   },
   "source": [
    "#### Balancing our training data"
   ]
  },
  {
   "cell_type": "markdown",
   "id": "c2bac411",
   "metadata": {
    "papermill": {
     "duration": 0.012754,
     "end_time": "2023-04-06T02:01:27.627410",
     "exception": false,
     "start_time": "2023-04-06T02:01:27.614656",
     "status": "completed"
    },
    "tags": []
   },
   "source": [
    "Now we need to balance our data. Imbalanced data refers to a situation in which the distribution of classes in a dataset is not equal. In other words, one class of data may be significantly more prevalent than another class."
   ]
  },
  {
   "cell_type": "markdown",
   "id": "1ed73cf9",
   "metadata": {
    "papermill": {
     "duration": 0.012794,
     "end_time": "2023-04-06T02:01:27.653267",
     "exception": false,
     "start_time": "2023-04-06T02:01:27.640473",
     "status": "completed"
    },
    "tags": []
   },
   "source": [
    "To obtain a balanced dataset, we're going to use SMOTE oversampling technique. SMOTE generates synthetic samples of the minority class by interpolating between neighboring instances."
   ]
  },
  {
   "cell_type": "code",
   "execution_count": 20,
   "id": "169beb8f",
   "metadata": {
    "execution": {
     "iopub.execute_input": "2023-04-06T02:01:27.682568Z",
     "iopub.status.busy": "2023-04-06T02:01:27.681349Z",
     "iopub.status.idle": "2023-04-06T02:01:46.702330Z",
     "shell.execute_reply": "2023-04-06T02:01:46.700643Z"
    },
    "papermill": {
     "duration": 19.038254,
     "end_time": "2023-04-06T02:01:46.704974",
     "exception": false,
     "start_time": "2023-04-06T02:01:27.666720",
     "status": "completed"
    },
    "tags": []
   },
   "outputs": [
    {
     "name": "stdout",
     "output_type": "stream",
     "text": [
      "Original dataset shape\n",
      "-1: 17591, 1: 83286\n",
      "Resampled dataset shape\n",
      "-1: 83286, 1: 83286\n"
     ]
    }
   ],
   "source": [
    "from collections import Counter\n",
    "from imblearn.over_sampling import SMOTE\n",
    "\n",
    "imbalanced = Counter(y_train)\n",
    "\n",
    "print(f'Original dataset shape')\n",
    "print(f'-1: {imbalanced[-1]}, 1: {imbalanced[1]}')\n",
    "\n",
    "sm = SMOTE(random_state=1142)\n",
    "X_train_res, y_train_res = sm.fit_resample(X_train_vect, y_train)\n",
    "\n",
    "balanced = Counter(y_train_res)\n",
    "\n",
    "print(f'Resampled dataset shape')\n",
    "print(f'-1: {balanced[-1]}, 1: {balanced[1]}')"
   ]
  },
  {
   "cell_type": "markdown",
   "id": "dff08e94",
   "metadata": {
    "papermill": {
     "duration": 0.012943,
     "end_time": "2023-04-06T02:01:46.731645",
     "exception": false,
     "start_time": "2023-04-06T02:01:46.718702",
     "status": "completed"
    },
    "tags": []
   },
   "source": [
    "Now, let's create the model using the feature matrix and correct classifications vector."
   ]
  },
  {
   "cell_type": "code",
   "execution_count": 21,
   "id": "0607ea68",
   "metadata": {
    "execution": {
     "iopub.execute_input": "2023-04-06T02:01:46.761057Z",
     "iopub.status.busy": "2023-04-06T02:01:46.760346Z",
     "iopub.status.idle": "2023-04-06T02:01:46.835986Z",
     "shell.execute_reply": "2023-04-06T02:01:46.834728Z"
    },
    "papermill": {
     "duration": 0.093018,
     "end_time": "2023-04-06T02:01:46.838419",
     "exception": false,
     "start_time": "2023-04-06T02:01:46.745401",
     "status": "completed"
    },
    "tags": []
   },
   "outputs": [
    {
     "data": {
      "text/plain": [
       "MultinomialNB()"
      ]
     },
     "execution_count": 21,
     "metadata": {},
     "output_type": "execute_result"
    }
   ],
   "source": [
    "from sklearn.naive_bayes import MultinomialNB\n",
    "\n",
    "nb = MultinomialNB()\n",
    "\n",
    "nb.fit(X_train_res, y_train_res)\n"
   ]
  },
  {
   "cell_type": "code",
   "execution_count": 22,
   "id": "1a5c8ce8",
   "metadata": {
    "execution": {
     "iopub.execute_input": "2023-04-06T02:01:46.868130Z",
     "iopub.status.busy": "2023-04-06T02:01:46.867446Z",
     "iopub.status.idle": "2023-04-06T02:01:46.926216Z",
     "shell.execute_reply": "2023-04-06T02:01:46.924969Z"
    },
    "papermill": {
     "duration": 0.076854,
     "end_time": "2023-04-06T02:01:46.928666",
     "exception": false,
     "start_time": "2023-04-06T02:01:46.851812",
     "status": "completed"
    },
    "tags": []
   },
   "outputs": [
    {
     "data": {
      "text/plain": [
       "0.8702483010349878"
      ]
     },
     "execution_count": 22,
     "metadata": {},
     "output_type": "execute_result"
    }
   ],
   "source": [
    "nb.score(X_train_res, y_train_res)"
   ]
  },
  {
   "cell_type": "markdown",
   "id": "9528c672",
   "metadata": {
    "papermill": {
     "duration": 0.013149,
     "end_time": "2023-04-06T02:01:46.955260",
     "exception": false,
     "start_time": "2023-04-06T02:01:46.942111",
     "status": "completed"
    },
    "tags": []
   },
   "source": [
    "Once, the model s created, it is time to test it.\n",
    "For testing, it is necessary create another feature matrix with our testing data."
   ]
  },
  {
   "cell_type": "code",
   "execution_count": 23,
   "id": "13576ce0",
   "metadata": {
    "execution": {
     "iopub.execute_input": "2023-04-06T02:01:46.984897Z",
     "iopub.status.busy": "2023-04-06T02:01:46.984219Z",
     "iopub.status.idle": "2023-04-06T02:02:52.952927Z",
     "shell.execute_reply": "2023-04-06T02:02:52.951511Z"
    },
    "papermill": {
     "duration": 65.987071,
     "end_time": "2023-04-06T02:02:52.955817",
     "exception": false,
     "start_time": "2023-04-06T02:01:46.968746",
     "status": "completed"
    },
    "tags": []
   },
   "outputs": [],
   "source": [
    "X_test_vect = custom_vect.fit_transform(X_test)"
   ]
  },
  {
   "cell_type": "markdown",
   "id": "f060a4c1",
   "metadata": {
    "papermill": {
     "duration": 0.013691,
     "end_time": "2023-04-06T02:02:52.983257",
     "exception": false,
     "start_time": "2023-04-06T02:02:52.969566",
     "status": "completed"
    },
    "tags": []
   },
   "source": [
    "Then, we're going to use our model to predict the classification for each row un our feature matrix."
   ]
  },
  {
   "cell_type": "code",
   "execution_count": 24,
   "id": "9e181c53",
   "metadata": {
    "execution": {
     "iopub.execute_input": "2023-04-06T02:02:53.012417Z",
     "iopub.status.busy": "2023-04-06T02:02:53.011949Z",
     "iopub.status.idle": "2023-04-06T02:02:53.021685Z",
     "shell.execute_reply": "2023-04-06T02:02:53.020462Z"
    },
    "papermill": {
     "duration": 0.027349,
     "end_time": "2023-04-06T02:02:53.024445",
     "exception": false,
     "start_time": "2023-04-06T02:02:52.997096",
     "status": "completed"
    },
    "tags": []
   },
   "outputs": [],
   "source": [
    "y_pred = nb.predict(X_test_vect)"
   ]
  },
  {
   "cell_type": "markdown",
   "id": "42accf0b",
   "metadata": {
    "papermill": {
     "duration": 0.013063,
     "end_time": "2023-04-06T02:02:53.051058",
     "exception": false,
     "start_time": "2023-04-06T02:02:53.037995",
     "status": "completed"
    },
    "tags": []
   },
   "source": [
    "Finally, we will compare model classification predictions against real classifications."
   ]
  },
  {
   "cell_type": "code",
   "execution_count": 25,
   "id": "524cc4bc",
   "metadata": {
    "execution": {
     "iopub.execute_input": "2023-04-06T02:02:53.082583Z",
     "iopub.status.busy": "2023-04-06T02:02:53.081891Z",
     "iopub.status.idle": "2023-04-06T02:02:53.118638Z",
     "shell.execute_reply": "2023-04-06T02:02:53.117221Z"
    },
    "papermill": {
     "duration": 0.054745,
     "end_time": "2023-04-06T02:02:53.121403",
     "exception": false,
     "start_time": "2023-04-06T02:02:53.066658",
     "status": "completed"
    },
    "tags": []
   },
   "outputs": [
    {
     "name": "stdout",
     "output_type": "stream",
     "text": [
      "Accuracy: 80.35%\n",
      "\n",
      "F1 Score: 89.06\n",
      "\n",
      "Confusion Matrix:\n",
      " [[   95  4340]\n",
      " [  616 20169]]\n"
     ]
    }
   ],
   "source": [
    "from sklearn.metrics import accuracy_score, f1_score, confusion_matrix\n",
    "\n",
    "print(\"Accuracy: {:.2f}%\".format(accuracy_score(y_test, y_pred) * 100))\n",
    "print(\"\\nF1 Score: {:.2f}\".format(f1_score(y_test, y_pred) * 100))\n",
    "print(\"\\nConfusion Matrix:\\n\", confusion_matrix(y_test, y_pred))"
   ]
  },
  {
   "cell_type": "markdown",
   "id": "d0399b66",
   "metadata": {
    "papermill": {
     "duration": 0.013234,
     "end_time": "2023-04-06T02:02:53.148300",
     "exception": false,
     "start_time": "2023-04-06T02:02:53.135066",
     "status": "completed"
    },
    "tags": []
   },
   "source": [
    "## References\n",
    "Antoni Sobkowicz. (2017). Steam Review Dataset (2017) [Data set]. Zenodo. https://doi.org/10.5281/zenodo.1000885\n",
    "\n",
    "Sarkar, D (2018, August 3rd). \n",
    "Text Wrangling & Pre-processing: A Practitioner’s Guide to NLP. KDnuggets. \n",
    "Retrieved March 6th 2023, from https://www.kdnuggets.com/2018/08/practitioners-guide-processing-understanding-text-2.html"
   ]
  }
 ],
 "metadata": {
  "kernelspec": {
   "display_name": "Python 3",
   "language": "python",
   "name": "python3"
  },
  "language_info": {
   "codemirror_mode": {
    "name": "ipython",
    "version": 3
   },
   "file_extension": ".py",
   "mimetype": "text/x-python",
   "name": "python",
   "nbconvert_exporter": "python",
   "pygments_lexer": "ipython3",
   "version": "3.7.12"
  },
  "papermill": {
   "default_parameters": {},
   "duration": 420.912793,
   "end_time": "2023-04-06T02:02:54.790661",
   "environment_variables": {},
   "exception": null,
   "input_path": "__notebook__.ipynb",
   "output_path": "__notebook__.ipynb",
   "parameters": {},
   "start_time": "2023-04-06T01:55:53.877868",
   "version": "2.4.0"
  }
 },
 "nbformat": 4,
 "nbformat_minor": 5
}
