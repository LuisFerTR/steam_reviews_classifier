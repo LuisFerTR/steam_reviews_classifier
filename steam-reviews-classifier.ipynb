{
 "cells": [
  {
   "cell_type": "markdown",
   "id": "44af0bff",
   "metadata": {
    "_execution_state": "idle",
    "_uuid": "051d70d956493feee0c6d64651c6a088724dca2a",
    "papermill": {
     "duration": 0.013452,
     "end_time": "2023-04-05T21:43:49.641046",
     "exception": false,
     "start_time": "2023-04-05T21:43:49.627594",
     "status": "completed"
    },
    "tags": []
   },
   "source": [
    "# A Steam reviews classifier using Naive Bayes\n",
    "\n",
    "<div style=\"text-align: justify\">\n",
    "Steam is a digital platform for the purchase of video games online. It is run by video game developer Valve.\n",
    "\n",
    "Steam is one of the main options for purchasing video games online and has millions of active users every month.\n",
    "\n",
    "One of the most important features of Steam is its review system. This system helps the user to decide whether to buy a game or not based on the experiences and recommendations of buyers of the game.\n",
    "\n",
    "The review system classifies reviews as positive or negative, and cumulative reviews are classified as overhwelmingly positive, very positive, mostly positive, positive, mixed, overhwelmingly negative, very negative, mostly negative and negative.\n",
    "\n",
    "</div>"
   ]
  },
  {
   "cell_type": "markdown",
   "id": "d81d708b",
   "metadata": {
    "papermill": {
     "duration": 0.011547,
     "end_time": "2023-04-05T21:43:49.665022",
     "exception": false,
     "start_time": "2023-04-05T21:43:49.653475",
     "status": "completed"
    },
    "tags": []
   },
   "source": [
    "This notebook presents step by step how to build a review classifier system using the **Naïve Bayes algorithm**."
   ]
  },
  {
   "cell_type": "markdown",
   "id": "55b155de",
   "metadata": {
    "papermill": {
     "duration": 0.011582,
     "end_time": "2023-04-05T21:43:49.688680",
     "exception": false,
     "start_time": "2023-04-05T21:43:49.677098",
     "status": "completed"
    },
    "tags": []
   },
   "source": [
    "# Importing the data\n",
    "The data to train the model were obtained from the \"Steam Reviews\" (Sobkowicz A., 2017) dataset available in Kaggle."
   ]
  },
  {
   "cell_type": "code",
   "execution_count": 1,
   "id": "cfe1c16b",
   "metadata": {
    "execution": {
     "iopub.execute_input": "2023-04-05T21:43:49.716793Z",
     "iopub.status.busy": "2023-04-05T21:43:49.716267Z",
     "iopub.status.idle": "2023-04-05T21:44:51.166706Z",
     "shell.execute_reply": "2023-04-05T21:44:51.165144Z"
    },
    "papermill": {
     "duration": 61.468059,
     "end_time": "2023-04-05T21:44:51.170397",
     "exception": false,
     "start_time": "2023-04-05T21:43:49.702338",
     "status": "completed"
    },
    "tags": []
   },
   "outputs": [],
   "source": [
    "import pandas as pd\n",
    "\n",
    "steam_reviews = pd.read_csv('/kaggle/input/steam-reviews/dataset.csv') "
   ]
  },
  {
   "cell_type": "code",
   "execution_count": 2,
   "id": "621bb5f1",
   "metadata": {
    "execution": {
     "iopub.execute_input": "2023-04-05T21:44:51.198903Z",
     "iopub.status.busy": "2023-04-05T21:44:51.197060Z",
     "iopub.status.idle": "2023-04-05T21:44:51.234347Z",
     "shell.execute_reply": "2023-04-05T21:44:51.232784Z"
    },
    "papermill": {
     "duration": 0.05499,
     "end_time": "2023-04-05T21:44:51.237810",
     "exception": false,
     "start_time": "2023-04-05T21:44:51.182820",
     "status": "completed"
    },
    "tags": []
   },
   "outputs": [
    {
     "data": {
      "text/html": [
       "<div>\n",
       "<style scoped>\n",
       "    .dataframe tbody tr th:only-of-type {\n",
       "        vertical-align: middle;\n",
       "    }\n",
       "\n",
       "    .dataframe tbody tr th {\n",
       "        vertical-align: top;\n",
       "    }\n",
       "\n",
       "    .dataframe thead th {\n",
       "        text-align: right;\n",
       "    }\n",
       "</style>\n",
       "<table border=\"1\" class=\"dataframe\">\n",
       "  <thead>\n",
       "    <tr style=\"text-align: right;\">\n",
       "      <th></th>\n",
       "      <th>app_id</th>\n",
       "      <th>app_name</th>\n",
       "      <th>review_text</th>\n",
       "      <th>review_score</th>\n",
       "      <th>review_votes</th>\n",
       "    </tr>\n",
       "  </thead>\n",
       "  <tbody>\n",
       "    <tr>\n",
       "      <th>0</th>\n",
       "      <td>10</td>\n",
       "      <td>Counter-Strike</td>\n",
       "      <td>Ruined my life.</td>\n",
       "      <td>1</td>\n",
       "      <td>0</td>\n",
       "    </tr>\n",
       "    <tr>\n",
       "      <th>1</th>\n",
       "      <td>10</td>\n",
       "      <td>Counter-Strike</td>\n",
       "      <td>This will be more of a ''my experience with th...</td>\n",
       "      <td>1</td>\n",
       "      <td>1</td>\n",
       "    </tr>\n",
       "    <tr>\n",
       "      <th>2</th>\n",
       "      <td>10</td>\n",
       "      <td>Counter-Strike</td>\n",
       "      <td>This game saved my virginity.</td>\n",
       "      <td>1</td>\n",
       "      <td>0</td>\n",
       "    </tr>\n",
       "    <tr>\n",
       "      <th>3</th>\n",
       "      <td>10</td>\n",
       "      <td>Counter-Strike</td>\n",
       "      <td>• Do you like original games? • Do you like ga...</td>\n",
       "      <td>1</td>\n",
       "      <td>0</td>\n",
       "    </tr>\n",
       "    <tr>\n",
       "      <th>4</th>\n",
       "      <td>10</td>\n",
       "      <td>Counter-Strike</td>\n",
       "      <td>Easy to learn, hard to master.</td>\n",
       "      <td>1</td>\n",
       "      <td>1</td>\n",
       "    </tr>\n",
       "  </tbody>\n",
       "</table>\n",
       "</div>"
      ],
      "text/plain": [
       "   app_id        app_name                                        review_text  \\\n",
       "0      10  Counter-Strike                                    Ruined my life.   \n",
       "1      10  Counter-Strike  This will be more of a ''my experience with th...   \n",
       "2      10  Counter-Strike                      This game saved my virginity.   \n",
       "3      10  Counter-Strike  • Do you like original games? • Do you like ga...   \n",
       "4      10  Counter-Strike           Easy to learn, hard to master.             \n",
       "\n",
       "   review_score  review_votes  \n",
       "0             1             0  \n",
       "1             1             1  \n",
       "2             1             0  \n",
       "3             1             0  \n",
       "4             1             1  "
      ]
     },
     "execution_count": 2,
     "metadata": {},
     "output_type": "execute_result"
    }
   ],
   "source": [
    "steam_reviews.head()"
   ]
  },
  {
   "cell_type": "markdown",
   "id": "17abc84b",
   "metadata": {
    "papermill": {
     "duration": 0.013044,
     "end_time": "2023-04-05T21:44:51.264153",
     "exception": false,
     "start_time": "2023-04-05T21:44:51.251109",
     "status": "completed"
    },
    "tags": []
   },
   "source": [
    "# Exploratory data analysis"
   ]
  },
  {
   "cell_type": "markdown",
   "id": "a8aedba8",
   "metadata": {
    "papermill": {
     "duration": 0.011848,
     "end_time": "2023-04-05T21:44:51.289037",
     "exception": false,
     "start_time": "2023-04-05T21:44:51.277189",
     "status": "completed"
    },
    "tags": []
   },
   "source": [
    "Once, we have imported the dataset is time to analyze the features and their content starting from the features names."
   ]
  },
  {
   "cell_type": "code",
   "execution_count": 3,
   "id": "a78a49fb",
   "metadata": {
    "execution": {
     "iopub.execute_input": "2023-04-05T21:44:51.316477Z",
     "iopub.status.busy": "2023-04-05T21:44:51.315880Z",
     "iopub.status.idle": "2023-04-05T21:44:51.325417Z",
     "shell.execute_reply": "2023-04-05T21:44:51.323939Z"
    },
    "papermill": {
     "duration": 0.027142,
     "end_time": "2023-04-05T21:44:51.328568",
     "exception": false,
     "start_time": "2023-04-05T21:44:51.301426",
     "status": "completed"
    },
    "tags": []
   },
   "outputs": [
    {
     "data": {
      "text/plain": [
       "['app_id', 'app_name', 'review_text', 'review_score', 'review_votes']"
      ]
     },
     "execution_count": 3,
     "metadata": {},
     "output_type": "execute_result"
    }
   ],
   "source": [
    "list(steam_reviews.columns)"
   ]
  },
  {
   "cell_type": "markdown",
   "id": "42226764",
   "metadata": {
    "papermill": {
     "duration": 0.011975,
     "end_time": "2023-04-05T21:44:51.353179",
     "exception": false,
     "start_time": "2023-04-05T21:44:51.341204",
     "status": "completed"
    },
    "tags": []
   },
   "source": [
    "- app_id: Game ID.\n",
    "- app_name: Game name.\n",
    "- review_text: Text of the review.\n",
    "- review_score: Whether the review recommends the game or not.\n",
    "- review_votes: Whether the review was recommended by another user or not."
   ]
  },
  {
   "cell_type": "markdown",
   "id": "455b18d3",
   "metadata": {
    "papermill": {
     "duration": 0.012068,
     "end_time": "2023-04-05T21:44:51.378435",
     "exception": false,
     "start_time": "2023-04-05T21:44:51.366367",
     "status": "completed"
    },
    "tags": []
   },
   "source": [
    "Number of dataset rows"
   ]
  },
  {
   "cell_type": "code",
   "execution_count": 4,
   "id": "6fa54c32",
   "metadata": {
    "execution": {
     "iopub.execute_input": "2023-04-05T21:44:51.406625Z",
     "iopub.status.busy": "2023-04-05T21:44:51.406029Z",
     "iopub.status.idle": "2023-04-05T21:44:51.415668Z",
     "shell.execute_reply": "2023-04-05T21:44:51.413947Z"
    },
    "papermill": {
     "duration": 0.028122,
     "end_time": "2023-04-05T21:44:51.418930",
     "exception": false,
     "start_time": "2023-04-05T21:44:51.390808",
     "status": "completed"
    },
    "tags": []
   },
   "outputs": [
    {
     "data": {
      "text/plain": [
       "6417106"
      ]
     },
     "execution_count": 4,
     "metadata": {},
     "output_type": "execute_result"
    }
   ],
   "source": [
    "rows = len(steam_reviews.index)\n",
    "rows"
   ]
  },
  {
   "cell_type": "markdown",
   "id": "27b9fc02",
   "metadata": {
    "papermill": {
     "duration": 0.014252,
     "end_time": "2023-04-05T21:44:51.447081",
     "exception": false,
     "start_time": "2023-04-05T21:44:51.432829",
     "status": "completed"
    },
    "tags": []
   },
   "source": [
    "Possible values of column \"review_score\"."
   ]
  },
  {
   "cell_type": "code",
   "execution_count": 5,
   "id": "805f1d78",
   "metadata": {
    "execution": {
     "iopub.execute_input": "2023-04-05T21:44:51.475814Z",
     "iopub.status.busy": "2023-04-05T21:44:51.475173Z",
     "iopub.status.idle": "2023-04-05T21:44:51.530087Z",
     "shell.execute_reply": "2023-04-05T21:44:51.528503Z"
    },
    "papermill": {
     "duration": 0.073339,
     "end_time": "2023-04-05T21:44:51.533330",
     "exception": false,
     "start_time": "2023-04-05T21:44:51.459991",
     "status": "completed"
    },
    "tags": []
   },
   "outputs": [
    {
     "data": {
      "text/plain": [
       "[1, -1]"
      ]
     },
     "execution_count": 5,
     "metadata": {},
     "output_type": "execute_result"
    }
   ],
   "source": [
    "list(pd.unique(steam_reviews['review_score']))"
   ]
  },
  {
   "cell_type": "markdown",
   "id": "9d3ad6e8",
   "metadata": {
    "papermill": {
     "duration": 0.012092,
     "end_time": "2023-04-05T21:44:51.558739",
     "exception": false,
     "start_time": "2023-04-05T21:44:51.546647",
     "status": "completed"
    },
    "tags": []
   },
   "source": [
    "We can see the positive reviews are recorded with a value of 1 and negative reviews are recorded with a value of -1."
   ]
  },
  {
   "cell_type": "markdown",
   "id": "ec6452f0",
   "metadata": {
    "papermill": {
     "duration": 0.012256,
     "end_time": "2023-04-05T21:44:51.583549",
     "exception": false,
     "start_time": "2023-04-05T21:44:51.571293",
     "status": "completed"
    },
    "tags": []
   },
   "source": [
    "Let's explore the number of games."
   ]
  },
  {
   "cell_type": "code",
   "execution_count": 6,
   "id": "0b6fc28a",
   "metadata": {
    "execution": {
     "iopub.execute_input": "2023-04-05T21:44:51.611197Z",
     "iopub.status.busy": "2023-04-05T21:44:51.610612Z",
     "iopub.status.idle": "2023-04-05T21:44:51.914798Z",
     "shell.execute_reply": "2023-04-05T21:44:51.913130Z"
    },
    "papermill": {
     "duration": 0.321816,
     "end_time": "2023-04-05T21:44:51.918079",
     "exception": false,
     "start_time": "2023-04-05T21:44:51.596263",
     "status": "completed"
    },
    "tags": []
   },
   "outputs": [
    {
     "data": {
      "text/plain": [
       "9364"
      ]
     },
     "execution_count": 6,
     "metadata": {},
     "output_type": "execute_result"
    }
   ],
   "source": [
    "games = pd.unique(steam_reviews['app_name'])\n",
    "games_count = len(games)\n",
    "games_count"
   ]
  },
  {
   "cell_type": "code",
   "execution_count": 7,
   "id": "fd7f0633",
   "metadata": {
    "execution": {
     "iopub.execute_input": "2023-04-05T21:44:51.947498Z",
     "iopub.status.busy": "2023-04-05T21:44:51.946989Z",
     "iopub.status.idle": "2023-04-05T21:44:52.329269Z",
     "shell.execute_reply": "2023-04-05T21:44:52.327362Z"
    },
    "papermill": {
     "duration": 0.400317,
     "end_time": "2023-04-05T21:44:52.332601",
     "exception": false,
     "start_time": "2023-04-05T21:44:51.932284",
     "status": "completed"
    },
    "tags": []
   },
   "outputs": [],
   "source": [
    "import numpy as np\n",
    "\n",
    "np.random.seed(2810)\n",
    "sample_size = 150000\n",
    "\n",
    "sample_id = np.random.randint(0, rows, sample_size)\n",
    "\n",
    "sample_data = steam_reviews.loc[sample_id, ['review_text', 'review_score']]"
   ]
  },
  {
   "cell_type": "markdown",
   "id": "914bb3b0",
   "metadata": {
    "papermill": {
     "duration": 0.012257,
     "end_time": "2023-04-05T21:44:52.357764",
     "exception": false,
     "start_time": "2023-04-05T21:44:52.345507",
     "status": "completed"
    },
    "tags": []
   },
   "source": [
    "### Positive reviews number vs Negative reviews number"
   ]
  },
  {
   "cell_type": "markdown",
   "id": "7eaacf0d",
   "metadata": {
    "papermill": {
     "duration": 0.012145,
     "end_time": "2023-04-05T21:44:52.382448",
     "exception": false,
     "start_time": "2023-04-05T21:44:52.370303",
     "status": "completed"
    },
    "tags": []
   },
   "source": [
    "Let's explore the number of positive and negative reviews in subset."
   ]
  },
  {
   "cell_type": "code",
   "execution_count": 8,
   "id": "01dd64ff",
   "metadata": {
    "execution": {
     "iopub.execute_input": "2023-04-05T21:44:52.410145Z",
     "iopub.status.busy": "2023-04-05T21:44:52.409651Z",
     "iopub.status.idle": "2023-04-05T21:44:52.446103Z",
     "shell.execute_reply": "2023-04-05T21:44:52.444657Z"
    },
    "papermill": {
     "duration": 0.054062,
     "end_time": "2023-04-05T21:44:52.449257",
     "exception": false,
     "start_time": "2023-04-05T21:44:52.395195",
     "status": "completed"
    },
    "tags": []
   },
   "outputs": [
    {
     "data": {
      "text/html": [
       "<div>\n",
       "<style scoped>\n",
       "    .dataframe tbody tr th:only-of-type {\n",
       "        vertical-align: middle;\n",
       "    }\n",
       "\n",
       "    .dataframe tbody tr th {\n",
       "        vertical-align: top;\n",
       "    }\n",
       "\n",
       "    .dataframe thead th {\n",
       "        text-align: right;\n",
       "    }\n",
       "</style>\n",
       "<table border=\"1\" class=\"dataframe\">\n",
       "  <thead>\n",
       "    <tr style=\"text-align: right;\">\n",
       "      <th></th>\n",
       "      <th>review_score</th>\n",
       "      <th>count</th>\n",
       "      <th>proportion</th>\n",
       "    </tr>\n",
       "  </thead>\n",
       "  <tbody>\n",
       "    <tr>\n",
       "      <th>0</th>\n",
       "      <td>1</td>\n",
       "      <td>122953</td>\n",
       "      <td>0.819687</td>\n",
       "    </tr>\n",
       "    <tr>\n",
       "      <th>1</th>\n",
       "      <td>-1</td>\n",
       "      <td>27047</td>\n",
       "      <td>0.180313</td>\n",
       "    </tr>\n",
       "  </tbody>\n",
       "</table>\n",
       "</div>"
      ],
      "text/plain": [
       "   review_score   count  proportion\n",
       "0             1  122953    0.819687\n",
       "1            -1   27047    0.180313"
      ]
     },
     "execution_count": 8,
     "metadata": {},
     "output_type": "execute_result"
    }
   ],
   "source": [
    "vc = sample_data['review_score'].value_counts().reset_index(name='count')\n",
    "vcn = sample_data['review_score'].value_counts(normalize=True).reset_index(name='proportion')\n",
    "\n",
    "review_score_stats = pd.merge(vc, vcn, on='index')\n",
    "review_score_stats.rename(columns={'index': 'review_score'}, inplace=True)\n",
    "review_score_stats"
   ]
  },
  {
   "cell_type": "code",
   "execution_count": 9,
   "id": "754e3b02",
   "metadata": {
    "_kg_hide-input": true,
    "execution": {
     "iopub.execute_input": "2023-04-05T21:44:52.479157Z",
     "iopub.status.busy": "2023-04-05T21:44:52.478602Z",
     "iopub.status.idle": "2023-04-05T21:44:52.900551Z",
     "shell.execute_reply": "2023-04-05T21:44:52.898684Z"
    },
    "papermill": {
     "duration": 0.441163,
     "end_time": "2023-04-05T21:44:52.904125",
     "exception": false,
     "start_time": "2023-04-05T21:44:52.462962",
     "status": "completed"
    },
    "tags": []
   },
   "outputs": [
    {
     "data": {
      "image/png": "[encoded data removed]",
      "text/plain": [
       "<Figure size 640x480 with 2 Axes>"
      ]
     },
     "metadata": {},
     "output_type": "display_data"
    }
   ],
   "source": [
    "import matplotlib.pyplot as plt\n",
    "\n",
    "kind = 'bar'\n",
    "bar_color = [\"#09BEC5\", \"#FF7065\"]\n",
    "\n",
    "fig, axes = plt.subplots(nrows=1,ncols=2)\n",
    "\n",
    "review_score_stats.plot(x='review_score', \n",
    "                        y='count', \n",
    "                        ax = axes[0], \n",
    "                        kind=kind, \n",
    "                        color=bar_color, \n",
    "                        subplots=True,\n",
    "                        legend=False)\n",
    "\n",
    "review_score_stats.plot(x='review_score', \n",
    "                        y='proportion', \n",
    "                        ax = axes[1], \n",
    "                        kind=kind, \n",
    "                        color=bar_color, \n",
    "                        subplots=True, \n",
    "                        legend=False)\n",
    "\n",
    "plt.show()"
   ]
  },
  {
   "cell_type": "markdown",
   "id": "78bdf5ac",
   "metadata": {
    "papermill": {
     "duration": 0.015203,
     "end_time": "2023-04-05T21:44:52.934611",
     "exception": false,
     "start_time": "2023-04-05T21:44:52.919408",
     "status": "completed"
    },
    "tags": []
   },
   "source": [
    "We can see that there are many more positive reviews than negative ones."
   ]
  },
  {
   "cell_type": "markdown",
   "id": "4eaaac10",
   "metadata": {
    "papermill": {
     "duration": 0.01319,
     "end_time": "2023-04-05T21:44:52.962459",
     "exception": false,
     "start_time": "2023-04-05T21:44:52.949269",
     "status": "completed"
    },
    "tags": []
   },
   "source": [
    "### Common reviews"
   ]
  },
  {
   "cell_type": "markdown",
   "id": "477422a7",
   "metadata": {
    "papermill": {
     "duration": 0.013243,
     "end_time": "2023-04-05T21:44:52.989496",
     "exception": false,
     "start_time": "2023-04-05T21:44:52.976253",
     "status": "completed"
    },
    "tags": []
   },
   "source": [
    "Let's analyze the information for repeated reviews."
   ]
  },
  {
   "cell_type": "code",
   "execution_count": 10,
   "id": "1c829b6c",
   "metadata": {
    "execution": {
     "iopub.execute_input": "2023-04-05T21:44:53.020852Z",
     "iopub.status.busy": "2023-04-05T21:44:53.019350Z",
     "iopub.status.idle": "2023-04-05T21:44:53.411317Z",
     "shell.execute_reply": "2023-04-05T21:44:53.408567Z"
    },
    "papermill": {
     "duration": 0.411477,
     "end_time": "2023-04-05T21:44:53.415432",
     "exception": false,
     "start_time": "2023-04-05T21:44:53.003955",
     "status": "completed"
    },
    "tags": []
   },
   "outputs": [
    {
     "data": {
      "text/html": [
       "<div>\n",
       "<style scoped>\n",
       "    .dataframe tbody tr th:only-of-type {\n",
       "        vertical-align: middle;\n",
       "    }\n",
       "\n",
       "    .dataframe tbody tr th {\n",
       "        vertical-align: top;\n",
       "    }\n",
       "\n",
       "    .dataframe thead th {\n",
       "        text-align: right;\n",
       "    }\n",
       "</style>\n",
       "<table border=\"1\" class=\"dataframe\">\n",
       "  <thead>\n",
       "    <tr style=\"text-align: right;\">\n",
       "      <th></th>\n",
       "      <th>text</th>\n",
       "      <th>count</th>\n",
       "    </tr>\n",
       "  </thead>\n",
       "  <tbody>\n",
       "    <tr>\n",
       "      <th>0</th>\n",
       "      <td>Early Access Review</td>\n",
       "      <td>23463</td>\n",
       "    </tr>\n",
       "    <tr>\n",
       "      <th>1</th>\n",
       "      <td>Early Access Review</td>\n",
       "      <td>266</td>\n",
       "    </tr>\n",
       "    <tr>\n",
       "      <th>2</th>\n",
       "      <td>10/10</td>\n",
       "      <td>127</td>\n",
       "    </tr>\n",
       "    <tr>\n",
       "      <th>3</th>\n",
       "      <td>.</td>\n",
       "      <td>106</td>\n",
       "    </tr>\n",
       "    <tr>\n",
       "      <th>4</th>\n",
       "      <td>great game</td>\n",
       "      <td>91</td>\n",
       "    </tr>\n",
       "    <tr>\n",
       "      <th>5</th>\n",
       "      <td>Great game</td>\n",
       "      <td>91</td>\n",
       "    </tr>\n",
       "    <tr>\n",
       "      <th>6</th>\n",
       "      <td>:)</td>\n",
       "      <td>56</td>\n",
       "    </tr>\n",
       "    <tr>\n",
       "      <th>7</th>\n",
       "      <td>Great game!</td>\n",
       "      <td>53</td>\n",
       "    </tr>\n",
       "    <tr>\n",
       "      <th>8</th>\n",
       "      <td>Great game.</td>\n",
       "      <td>49</td>\n",
       "    </tr>\n",
       "    <tr>\n",
       "      <th>9</th>\n",
       "      <td>♥♥♥♥</td>\n",
       "      <td>43</td>\n",
       "    </tr>\n",
       "  </tbody>\n",
       "</table>\n",
       "</div>"
      ],
      "text/plain": [
       "                     text  count\n",
       "0     Early Access Review  23463\n",
       "1     Early Access Review    266\n",
       "2                   10/10    127\n",
       "3                       .    106\n",
       "4              great game     91\n",
       "5              Great game     91\n",
       "6                      :)     56\n",
       "7             Great game!     53\n",
       "8             Great game.     49\n",
       "9                    ♥♥♥♥     43"
      ]
     },
     "execution_count": 10,
     "metadata": {},
     "output_type": "execute_result"
    }
   ],
   "source": [
    "# Lowercase review text\n",
    "reviews_text = sample_data['review_text'].reset_index(name='text')\n",
    "\n",
    "# Count occurrences of review text\n",
    "tc = reviews_text['text'].value_counts().reset_index(name='count')\n",
    "tc.rename(columns={'index': 'text'}, inplace=True)\n",
    "tc.head(10)"
   ]
  },
  {
   "cell_type": "markdown",
   "id": "8e8ae570",
   "metadata": {
    "papermill": {
     "duration": 0.013595,
     "end_time": "2023-04-05T21:44:53.442954",
     "exception": false,
     "start_time": "2023-04-05T21:44:53.429359",
     "status": "completed"
    },
    "tags": []
   },
   "source": [
    "As shown in the table, the text \"early access review\" is repeated too much, this text does not add information to the model, so it will be removed later."
   ]
  },
  {
   "cell_type": "markdown",
   "id": "913236b3",
   "metadata": {
    "papermill": {
     "duration": 0.013893,
     "end_time": "2023-04-05T21:44:53.471331",
     "exception": false,
     "start_time": "2023-04-05T21:44:53.457438",
     "status": "completed"
    },
    "tags": []
   },
   "source": [
    "# Preparing the data"
   ]
  },
  {
   "cell_type": "markdown",
   "id": "9e888d3b",
   "metadata": {
    "papermill": {
     "duration": 0.014124,
     "end_time": "2023-04-05T21:44:53.499914",
     "exception": false,
     "start_time": "2023-04-05T21:44:53.485790",
     "status": "completed"
    },
    "tags": []
   },
   "source": [
    "<div style=\"text-align: justify\">\n",
    "Before creating the model and training it, we must preprocess the text of the reviews. This is in order to reduce the amount of data needed to train the model and improve the accuracy of the model.\n",
    "</div>\n",
    "\n",
    "### Preprocessing steps\n",
    "- Lowercase\n",
    "- Remove punctuation\n",
    "- Remove stop words\n",
    "- Stemming\n",
    "- Tokenize sentences\n"
   ]
  },
  {
   "cell_type": "code",
   "execution_count": 11,
   "id": "4c273857",
   "metadata": {
    "_kg_hide-input": true,
    "execution": {
     "iopub.execute_input": "2023-04-05T21:44:53.531485Z",
     "iopub.status.busy": "2023-04-05T21:44:53.530942Z",
     "iopub.status.idle": "2023-04-05T21:44:53.538063Z",
     "shell.execute_reply": "2023-04-05T21:44:53.536335Z"
    },
    "papermill": {
     "duration": 0.02646,
     "end_time": "2023-04-05T21:44:53.541386",
     "exception": false,
     "start_time": "2023-04-05T21:44:53.514926",
     "status": "completed"
    },
    "tags": []
   },
   "outputs": [],
   "source": [
    "import sys\n",
    "sys.path.insert(1, \"/kaggle/input/contraction-map\")"
   ]
  },
  {
   "cell_type": "code",
   "execution_count": 12,
   "id": "e6d10103",
   "metadata": {
    "execution": {
     "iopub.execute_input": "2023-04-05T21:44:53.571224Z",
     "iopub.status.busy": "2023-04-05T21:44:53.570702Z",
     "iopub.status.idle": "2023-04-05T21:44:53.579160Z",
     "shell.execute_reply": "2023-04-05T21:44:53.577417Z"
    },
    "papermill": {
     "duration": 0.027195,
     "end_time": "2023-04-05T21:44:53.582428",
     "exception": false,
     "start_time": "2023-04-05T21:44:53.555233",
     "status": "completed"
    },
    "tags": []
   },
   "outputs": [],
   "source": [
    "def remove_emoji(text):\n",
    "    emoji_pattern = re.compile(\"[\"\n",
    "                        u\"\\U0001F600-\\U0001F64F\"  # emoticons\n",
    "                        u\"\\U0001F300-\\U0001F5FF\"  # symbols & pictographs\n",
    "                        u\"\\U0001F680-\\U0001F6FF\"  # transport & map symbols\n",
    "                        u\"\\U0001F1E0-\\U0001F1FF\"  # flags (iOS)\n",
    "                        u\"\\U00002702-\\U000027B0\"\n",
    "                        u\"\\U000024C2-\\U0001F251\"\n",
    "                        u\"\\U0001f926-\\U0001f937\"\n",
    "                        u\"\\U0001F1F2\"\n",
    "                        u\"\\U0001F1F4\"\n",
    "                        u\"\\U0001F620\"\n",
    "                        u\"\\u200d\"\n",
    "                        u\"\\u2640-\\u2642\"\n",
    "                        u\"\\u2600-\\u2B55\"\n",
    "                        u\"\\u23cf\"\n",
    "                        u\"\\u23e9\"\n",
    "                        u\"\\u231a\"\n",
    "                        u\"\\ufe0f\"  # dingbats\n",
    "                        u\"\\u3030\"\n",
    "                        u\"\\U00002500-\\U00002BEF\"  # Chinese char\n",
    "                        u\"\\U00010000-\\U0010ffff\"\n",
    "                        \"]+\", flags=re.UNICODE)\n",
    "    \n",
    "    return emoji_pattern.sub(r'', text)"
   ]
  },
  {
   "cell_type": "code",
   "execution_count": 13,
   "id": "2b67ffc6",
   "metadata": {
    "execution": {
     "iopub.execute_input": "2023-04-05T21:44:53.614478Z",
     "iopub.status.busy": "2023-04-05T21:44:53.613023Z",
     "iopub.status.idle": "2023-04-05T21:44:53.634418Z",
     "shell.execute_reply": "2023-04-05T21:44:53.632901Z"
    },
    "papermill": {
     "duration": 0.040934,
     "end_time": "2023-04-05T21:44:53.638050",
     "exception": false,
     "start_time": "2023-04-05T21:44:53.597116",
     "status": "completed"
    },
    "tags": []
   },
   "outputs": [],
   "source": [
    "from contractions import CONTRACTION_MAP\n",
    "import re\n",
    "\n",
    "\"\"\"\n",
    "Open source code from Sarkar (2018)\n",
    "Sarkar, D (2018, August 3rd). \n",
    "Text Wrangling & Pre-processing: A Practitioner’s Guide to NLP. KDnuggets. \n",
    "Recuperado 6 de marzo de 2023, de https://www.kdnuggets.com/2018/08/practitioners-guide-processing-understanding-text-2.html\n",
    "\"\"\"\n",
    "\n",
    "def expand_contractions(text, contraction_mapping=CONTRACTION_MAP):\n",
    "    \n",
    "    contractions_pattern = re.compile('({})'.format('|'.join(contraction_mapping.keys())), \n",
    "                                      flags=re.IGNORECASE|re.DOTALL)\n",
    "    def expand_match(contraction):\n",
    "        match = contraction.group(0)\n",
    "        first_char = match[0]\n",
    "        expanded_contraction = contraction_mapping.get(match)\\\n",
    "                                if contraction_mapping.get(match)\\\n",
    "                                else contraction_mapping.get(match.lower())                       \n",
    "        expanded_contraction = first_char+expanded_contraction[1:]\n",
    "        return expanded_contraction\n",
    "        \n",
    "    expanded_text = contractions_pattern.sub(expand_match, text)\n",
    "    expanded_text = re.sub(\"'\", \"\", expanded_text)\n",
    "    return expanded_text"
   ]
  },
  {
   "cell_type": "code",
   "execution_count": 14,
   "id": "6e48cbd4",
   "metadata": {
    "execution": {
     "iopub.execute_input": "2023-04-05T21:44:53.668924Z",
     "iopub.status.busy": "2023-04-05T21:44:53.667865Z",
     "iopub.status.idle": "2023-04-05T21:44:53.687251Z",
     "shell.execute_reply": "2023-04-05T21:44:53.685697Z"
    },
    "papermill": {
     "duration": 0.038979,
     "end_time": "2023-04-05T21:44:53.690783",
     "exception": false,
     "start_time": "2023-04-05T21:44:53.651804",
     "status": "completed"
    },
    "tags": []
   },
   "outputs": [],
   "source": [
    "from unidecode import unidecode\n",
    "\n",
    "import string\n",
    "\n",
    "def preprocess_review(review):\n",
    "    \"\"\"\n",
    "    Return a cleaned text (string).\n",
    "    \n",
    "    Input\n",
    "    review: A review text string.\n",
    "    -----------------------------------------\n",
    "    Output\n",
    "    preprocessed_review: A string without digits, \n",
    "    emojis and expanded contractions.\n",
    "    \"\"\"\n",
    "    preproc_review = review.lower() # Lowecase\n",
    "    \n",
    "    # Replace happy and sad emoticons by \"happy\" and \"sad\" words.\n",
    "    SAD_FACE = [':(', ':c']\n",
    "    HAPPY_FACE = [':)', ':D']\n",
    "    \n",
    "    for face in SAD_FACE:\n",
    "        if face in preproc_review:\n",
    "                preproc_review = preproc_review.replace(face, 'sad')\n",
    "                \n",
    "    for face in HAPPY_FACE:\n",
    "        if face in review:\n",
    "                preproc_review = preproc_review.replace(face, 'happy')\n",
    "        \n",
    "    # Replace ratings by words\n",
    "    for match in re.finditer(r'([0-9][0-9]?(\\.[0-9])?|100?)\\/(100?)', preproc_review):\n",
    "        numerator =  match.group(1)\n",
    "        denominator = match.group(3)\n",
    "        rating = float(numerator) / float(denominator)\n",
    "        \n",
    "        repl_str = f'{numerator}/{denominator}'\n",
    "        \n",
    "        if rating < 0.5:\n",
    "            preproc_review = preproc_review.replace(repl_str, 'terrible')\n",
    "        elif rating < 0.6:\n",
    "            preproc_review = preproc_review.replace(repl_str, 'bad')\n",
    "        elif rating < 0.8:\n",
    "            preproc_review = preproc_review.replace(repl_str, 'okay')\n",
    "        elif rating < 1:\n",
    "            preproc_review = preproc_review.replace(repl_str, 'good')\n",
    "        else:\n",
    "            preproc_review = preproc_review.replace(repl_str, 'excellent')\n",
    "    \n",
    "    # Remove digits\n",
    "    preproc_review = preproc_review.translate(str.maketrans('', '', '0123456789'))\n",
    "    \n",
    "    # Remove emojis\n",
    "    preproc_review = remove_emoji(preproc_review)\n",
    "    \n",
    "    # Decode unicode letters to ASCII letters, eg.'İ,Ö,Ü,Ş,Ç,Ğ' -> 'I,O,U,S,C,G'\n",
    "    preproc_review = unidecode(preproc_review)\n",
    "    \n",
    "    # Expand contractions to avoid losing important information\n",
    "    preproc_review = expand_contractions(preproc_review)\n",
    "    \n",
    "    # Remove punctuation\n",
    "    preproc_review = preproc_review.translate(str.maketrans('', '', string.punctuation))\n",
    "        \n",
    "    return preproc_review"
   ]
  },
  {
   "cell_type": "code",
   "execution_count": 15,
   "id": "ccf97ca7",
   "metadata": {
    "execution": {
     "iopub.execute_input": "2023-04-05T21:44:53.723459Z",
     "iopub.status.busy": "2023-04-05T21:44:53.722936Z",
     "iopub.status.idle": "2023-04-05T21:44:55.974488Z",
     "shell.execute_reply": "2023-04-05T21:44:55.972719Z"
    },
    "papermill": {
     "duration": 2.272392,
     "end_time": "2023-04-05T21:44:55.978089",
     "exception": false,
     "start_time": "2023-04-05T21:44:53.705697",
     "status": "completed"
    },
    "tags": []
   },
   "outputs": [],
   "source": [
    "from nltk.stem import PorterStemmer\n",
    "from nltk.tokenize import word_tokenize\n",
    "\n",
    "def stem_tokenizer(review):\n",
    "    \"\"\"\n",
    "    Return a collection of stemmed tokens extracted from a review.\n",
    "    \n",
    "    Input\n",
    "    review: A review text string.\n",
    "    --------------------------------------------------------------\n",
    "    Output\n",
    "    A list of strings.\n",
    "    \"\"\"\n",
    "    # Tokenization\n",
    "    review_tokens = word_tokenize(review)\n",
    "        \n",
    "    ps = PorterStemmer()\n",
    "    \n",
    "    # Stemming\n",
    "    return [ps.stem(word) for word in review_tokens]"
   ]
  },
  {
   "cell_type": "markdown",
   "id": "e882f0cf",
   "metadata": {
    "papermill": {
     "duration": 0.015366,
     "end_time": "2023-04-05T21:44:56.007447",
     "exception": false,
     "start_time": "2023-04-05T21:44:55.992081",
     "status": "completed"
    },
    "tags": []
   },
   "source": [
    "### Preparing for training"
   ]
  },
  {
   "cell_type": "markdown",
   "id": "605a8799",
   "metadata": {
    "papermill": {
     "duration": 0.013356,
     "end_time": "2023-04-05T21:44:56.034790",
     "exception": false,
     "start_time": "2023-04-05T21:44:56.021434",
     "status": "completed"
    },
    "tags": []
   },
   "source": [
    "Once our functions are completed, it is necessary to prepare the data for training the model."
   ]
  },
  {
   "cell_type": "markdown",
   "id": "bbc8c741",
   "metadata": {
    "papermill": {
     "duration": 0.013227,
     "end_time": "2023-04-05T21:44:56.061590",
     "exception": false,
     "start_time": "2023-04-05T21:44:56.048363",
     "status": "completed"
    },
    "tags": []
   },
   "source": [
    "First, we are going to remove all \"Early Access Review\" entries."
   ]
  },
  {
   "cell_type": "code",
   "execution_count": 16,
   "id": "0e955fe1",
   "metadata": {
    "execution": {
     "iopub.execute_input": "2023-04-05T21:44:56.093108Z",
     "iopub.status.busy": "2023-04-05T21:44:56.092595Z",
     "iopub.status.idle": "2023-04-05T21:44:57.398711Z",
     "shell.execute_reply": "2023-04-05T21:44:57.396967Z"
    },
    "papermill": {
     "duration": 1.326894,
     "end_time": "2023-04-05T21:44:57.402895",
     "exception": false,
     "start_time": "2023-04-05T21:44:56.076001",
     "status": "completed"
    },
    "tags": []
   },
   "outputs": [],
   "source": [
    "data = steam_reviews.copy()\n",
    "data = data.loc[sample_id, ['review_text', 'review_score']]\n",
    "data = data[data['review_text'].str.contains('Early Access Review') == False]"
   ]
  },
  {
   "cell_type": "code",
   "execution_count": 17,
   "id": "4cf285e1",
   "metadata": {
    "execution": {
     "iopub.execute_input": "2023-04-05T21:44:57.434475Z",
     "iopub.status.busy": "2023-04-05T21:44:57.433946Z",
     "iopub.status.idle": "2023-04-05T21:44:57.746280Z",
     "shell.execute_reply": "2023-04-05T21:44:57.744918Z"
    },
    "papermill": {
     "duration": 0.332135,
     "end_time": "2023-04-05T21:44:57.749389",
     "exception": false,
     "start_time": "2023-04-05T21:44:57.417254",
     "status": "completed"
    },
    "tags": []
   },
   "outputs": [
    {
     "data": {
      "text/html": [
       "<div>\n",
       "<style scoped>\n",
       "    .dataframe tbody tr th:only-of-type {\n",
       "        vertical-align: middle;\n",
       "    }\n",
       "\n",
       "    .dataframe tbody tr th {\n",
       "        vertical-align: top;\n",
       "    }\n",
       "\n",
       "    .dataframe thead th {\n",
       "        text-align: right;\n",
       "    }\n",
       "</style>\n",
       "<table border=\"1\" class=\"dataframe\">\n",
       "  <thead>\n",
       "    <tr style=\"text-align: right;\">\n",
       "      <th></th>\n",
       "      <th>text</th>\n",
       "      <th>count</th>\n",
       "    </tr>\n",
       "  </thead>\n",
       "  <tbody>\n",
       "    <tr>\n",
       "      <th>0</th>\n",
       "      <td>10/10</td>\n",
       "      <td>127</td>\n",
       "    </tr>\n",
       "    <tr>\n",
       "      <th>1</th>\n",
       "      <td>.</td>\n",
       "      <td>106</td>\n",
       "    </tr>\n",
       "    <tr>\n",
       "      <th>2</th>\n",
       "      <td>great game</td>\n",
       "      <td>91</td>\n",
       "    </tr>\n",
       "    <tr>\n",
       "      <th>3</th>\n",
       "      <td>Great game</td>\n",
       "      <td>91</td>\n",
       "    </tr>\n",
       "    <tr>\n",
       "      <th>4</th>\n",
       "      <td>:)</td>\n",
       "      <td>56</td>\n",
       "    </tr>\n",
       "    <tr>\n",
       "      <th>5</th>\n",
       "      <td>Great game!</td>\n",
       "      <td>53</td>\n",
       "    </tr>\n",
       "    <tr>\n",
       "      <th>6</th>\n",
       "      <td>Great game.</td>\n",
       "      <td>49</td>\n",
       "    </tr>\n",
       "    <tr>\n",
       "      <th>7</th>\n",
       "      <td>♥♥♥♥</td>\n",
       "      <td>43</td>\n",
       "    </tr>\n",
       "    <tr>\n",
       "      <th>8</th>\n",
       "      <td>Great Game</td>\n",
       "      <td>42</td>\n",
       "    </tr>\n",
       "    <tr>\n",
       "      <th>9</th>\n",
       "      <td>Nice game</td>\n",
       "      <td>42</td>\n",
       "    </tr>\n",
       "  </tbody>\n",
       "</table>\n",
       "</div>"
      ],
      "text/plain": [
       "          text  count\n",
       "0        10/10    127\n",
       "1            .    106\n",
       "2   great game     91\n",
       "3   Great game     91\n",
       "4           :)     56\n",
       "5  Great game!     53\n",
       "6  Great game.     49\n",
       "7         ♥♥♥♥     43\n",
       "8   Great Game     42\n",
       "9    Nice game     42"
      ]
     },
     "execution_count": 17,
     "metadata": {},
     "output_type": "execute_result"
    }
   ],
   "source": [
    "reviews_text = data['review_text'].reset_index(name='text')\n",
    "\n",
    "# Count occurrences of review text\n",
    "tc = reviews_text['text'].value_counts().reset_index(name='count')\n",
    "tc.rename(columns={'index': 'text'}, inplace=True)\n",
    "tc.head(10)"
   ]
  },
  {
   "cell_type": "markdown",
   "id": "8c0eb3cb",
   "metadata": {
    "papermill": {
     "duration": 0.013731,
     "end_time": "2023-04-05T21:44:57.778169",
     "exception": false,
     "start_time": "2023-04-05T21:44:57.764438",
     "status": "completed"
    },
    "tags": []
   },
   "source": [
    "It can be seen that reviews containing \"Early Access Review\" have been removed."
   ]
  },
  {
   "cell_type": "markdown",
   "id": "a4d96a9e",
   "metadata": {
    "papermill": {
     "duration": 0.015368,
     "end_time": "2023-04-05T21:44:57.807877",
     "exception": false,
     "start_time": "2023-04-05T21:44:57.792509",
     "status": "completed"
    },
    "tags": []
   },
   "source": [
    "#### Splitting dataset"
   ]
  },
  {
   "cell_type": "markdown",
   "id": "24e9cb66",
   "metadata": {
    "papermill": {
     "duration": 0.014418,
     "end_time": "2023-04-05T21:44:57.839071",
     "exception": false,
     "start_time": "2023-04-05T21:44:57.824653",
     "status": "completed"
    },
    "tags": []
   },
   "source": [
    "We will divide the data into training data and test data."
   ]
  },
  {
   "cell_type": "code",
   "execution_count": 18,
   "id": "94595a5f",
   "metadata": {
    "execution": {
     "iopub.execute_input": "2023-04-05T21:44:57.869477Z",
     "iopub.status.busy": "2023-04-05T21:44:57.868919Z",
     "iopub.status.idle": "2023-04-05T21:44:57.919269Z",
     "shell.execute_reply": "2023-04-05T21:44:57.917663Z"
    },
    "papermill": {
     "duration": 0.069559,
     "end_time": "2023-04-05T21:44:57.922763",
     "exception": false,
     "start_time": "2023-04-05T21:44:57.853204",
     "status": "completed"
    },
    "tags": []
   },
   "outputs": [],
   "source": [
    "from sklearn.model_selection import train_test_split\n",
    "\n",
    "X = data.review_text\n",
    "y = data.review_score\n",
    "\n",
    "X_train, X_test, y_train, y_test = train_test_split(X, y, test_size=0.2)"
   ]
  },
  {
   "cell_type": "markdown",
   "id": "e696e051",
   "metadata": {
    "papermill": {
     "duration": 0.015232,
     "end_time": "2023-04-05T21:44:57.953095",
     "exception": false,
     "start_time": "2023-04-05T21:44:57.937863",
     "status": "completed"
    },
    "tags": []
   },
   "source": [
    "The training data will contain 80% of the data and the test data will contain 20% of the data."
   ]
  },
  {
   "cell_type": "markdown",
   "id": "af3d23a1",
   "metadata": {
    "papermill": {
     "duration": 0.015314,
     "end_time": "2023-04-05T21:44:57.983162",
     "exception": false,
     "start_time": "2023-04-05T21:44:57.967848",
     "status": "completed"
    },
    "tags": []
   },
   "source": [
    "#### Creating feature matrix"
   ]
  },
  {
   "cell_type": "code",
   "execution_count": 19,
   "id": "a18cf020",
   "metadata": {
    "execution": {
     "iopub.execute_input": "2023-04-05T21:44:58.017561Z",
     "iopub.status.busy": "2023-04-05T21:44:58.015470Z",
     "iopub.status.idle": "2023-04-05T21:49:35.506759Z",
     "shell.execute_reply": "2023-04-05T21:49:35.505190Z"
    },
    "papermill": {
     "duration": 277.513116,
     "end_time": "2023-04-05T21:49:35.510445",
     "exception": false,
     "start_time": "2023-04-05T21:44:57.997329",
     "status": "completed"
    },
    "tags": []
   },
   "outputs": [],
   "source": [
    "from nltk.corpus import stopwords\n",
    "from sklearn.feature_extraction.text import CountVectorizer #, TfidfVectorizer\n",
    "\n",
    "new_stopwords = stopwords.words('english')\n",
    "new_stopwords.remove('no')\n",
    "new_stopwords.remove('not')\n",
    "new_stopwords.append('becaus') # \"Because\" misspelled\n",
    "\n",
    "custom_stopwords = []\n",
    "\n",
    "for w in new_stopwords:\n",
    "    custom_stopwords.append(stem_tokenizer(preprocess_review(w))[0])\n",
    "\n",
    "custom_vect = CountVectorizer(preprocessor=preprocess_review, \n",
    "                             tokenizer=stem_tokenizer,\n",
    "                             stop_words=custom_stopwords,\n",
    "                             max_features=5000)\n",
    "\n",
    "X_train_vect = custom_vect.fit_transform(X_train)"
   ]
  },
  {
   "cell_type": "markdown",
   "id": "65b33589",
   "metadata": {
    "papermill": {
     "duration": 0.013458,
     "end_time": "2023-04-05T21:49:35.538267",
     "exception": false,
     "start_time": "2023-04-05T21:49:35.524809",
     "status": "completed"
    },
    "tags": []
   },
   "source": [
    "#### Balancing our training data"
   ]
  },
  {
   "cell_type": "markdown",
   "id": "62f78ebf",
   "metadata": {
    "papermill": {
     "duration": 0.013351,
     "end_time": "2023-04-05T21:49:35.565306",
     "exception": false,
     "start_time": "2023-04-05T21:49:35.551955",
     "status": "completed"
    },
    "tags": []
   },
   "source": [
    "Now we need to sample a balanced subset from our data. Imbalanced data typically refers to a problem with classification problems where the classes are not represented equally, the previous barplot shows us that our sample data is imbalanced."
   ]
  },
  {
   "cell_type": "markdown",
   "id": "0e6f5ac3",
   "metadata": {
    "papermill": {
     "duration": 0.013543,
     "end_time": "2023-04-05T21:49:35.594246",
     "exception": false,
     "start_time": "2023-04-05T21:49:35.580703",
     "status": "completed"
    },
    "tags": []
   },
   "source": [
    "To obtain a balanced dataset, we're going to use a combination of SMOTE oversampling technique and Edited Nearest Neighbors undersampling techinique."
   ]
  },
  {
   "cell_type": "code",
   "execution_count": 20,
   "id": "0574763e",
   "metadata": {
    "execution": {
     "iopub.execute_input": "2023-04-05T21:49:35.624205Z",
     "iopub.status.busy": "2023-04-05T21:49:35.623733Z",
     "iopub.status.idle": "2023-04-05T21:49:54.992196Z",
     "shell.execute_reply": "2023-04-05T21:49:54.990095Z"
    },
    "papermill": {
     "duration": 19.388499,
     "end_time": "2023-04-05T21:49:54.996449",
     "exception": false,
     "start_time": "2023-04-05T21:49:35.607950",
     "status": "completed"
    },
    "tags": []
   },
   "outputs": [
    {
     "name": "stdout",
     "output_type": "stream",
     "text": [
      "Original dataset shape\n",
      "-1: 17591, 1: 83286\n",
      "Resampled dataset shape\n",
      "-1: 83286, 1: 83286\n"
     ]
    }
   ],
   "source": [
    "from collections import Counter\n",
    "from imblearn.over_sampling import SMOTE\n",
    "\n",
    "imbalanced = Counter(y_train)\n",
    "\n",
    "print(f'Original dataset shape')\n",
    "print(f'-1: {imbalanced[-1]}, 1: {imbalanced[1]}')\n",
    "\n",
    "sm = SMOTE(random_state=1142)\n",
    "X_train_res, y_train_res = sm.fit_resample(X_train_vect, y_train)\n",
    "\n",
    "balanced = Counter(y_train_res)\n",
    "\n",
    "print(f'Resampled dataset shape')\n",
    "print(f'-1: {balanced[-1]}, 1: {balanced[1]}')"
   ]
  },
  {
   "cell_type": "markdown",
   "id": "d19610a2",
   "metadata": {
    "papermill": {
     "duration": 0.013898,
     "end_time": "2023-04-05T21:49:55.031392",
     "exception": false,
     "start_time": "2023-04-05T21:49:55.017494",
     "status": "completed"
    },
    "tags": []
   },
   "source": [
    "Now, let's create the model using the feature matrix and correct classifications vector."
   ]
  },
  {
   "cell_type": "code",
   "execution_count": 21,
   "id": "b353168b",
   "metadata": {
    "execution": {
     "iopub.execute_input": "2023-04-05T21:49:55.063826Z",
     "iopub.status.busy": "2023-04-05T21:49:55.062743Z",
     "iopub.status.idle": "2023-04-05T21:49:55.150911Z",
     "shell.execute_reply": "2023-04-05T21:49:55.149208Z"
    },
    "papermill": {
     "duration": 0.108968,
     "end_time": "2023-04-05T21:49:55.154885",
     "exception": false,
     "start_time": "2023-04-05T21:49:55.045917",
     "status": "completed"
    },
    "tags": []
   },
   "outputs": [
    {
     "data": {
      "text/plain": [
       "MultinomialNB()"
      ]
     },
     "execution_count": 21,
     "metadata": {},
     "output_type": "execute_result"
    }
   ],
   "source": [
    "from sklearn.naive_bayes import MultinomialNB\n",
    "\n",
    "nb = MultinomialNB()\n",
    "\n",
    "nb.fit(X_train_res, y_train_res)\n"
   ]
  },
  {
   "cell_type": "code",
   "execution_count": 22,
   "id": "44a541f0",
   "metadata": {
    "execution": {
     "iopub.execute_input": "2023-04-05T21:49:55.193603Z",
     "iopub.status.busy": "2023-04-05T21:49:55.192691Z",
     "iopub.status.idle": "2023-04-05T21:49:55.256469Z",
     "shell.execute_reply": "2023-04-05T21:49:55.254592Z"
    },
    "papermill": {
     "duration": 0.083311,
     "end_time": "2023-04-05T21:49:55.259792",
     "exception": false,
     "start_time": "2023-04-05T21:49:55.176481",
     "status": "completed"
    },
    "tags": []
   },
   "outputs": [
    {
     "data": {
      "text/plain": [
       "0.8702483010349878"
      ]
     },
     "execution_count": 22,
     "metadata": {},
     "output_type": "execute_result"
    }
   ],
   "source": [
    "nb.score(X_train_res, y_train_res)"
   ]
  },
  {
   "cell_type": "markdown",
   "id": "11ec0414",
   "metadata": {
    "papermill": {
     "duration": 0.01396,
     "end_time": "2023-04-05T21:49:55.289196",
     "exception": false,
     "start_time": "2023-04-05T21:49:55.275236",
     "status": "completed"
    },
    "tags": []
   },
   "source": [
    "Once, the model s created, it is time to test it.\n",
    "For testing, it is necessary create another feature matrix with our testing data."
   ]
  },
  {
   "cell_type": "code",
   "execution_count": 23,
   "id": "cea1ad94",
   "metadata": {
    "execution": {
     "iopub.execute_input": "2023-04-05T21:49:55.320214Z",
     "iopub.status.busy": "2023-04-05T21:49:55.319203Z",
     "iopub.status.idle": "2023-04-05T21:51:03.163682Z",
     "shell.execute_reply": "2023-04-05T21:51:03.161730Z"
    },
    "papermill": {
     "duration": 67.864487,
     "end_time": "2023-04-05T21:51:03.167705",
     "exception": false,
     "start_time": "2023-04-05T21:49:55.303218",
     "status": "completed"
    },
    "tags": []
   },
   "outputs": [],
   "source": [
    "X_test_vect = custom_vect.fit_transform(X_test)"
   ]
  },
  {
   "cell_type": "markdown",
   "id": "e19311a2",
   "metadata": {
    "papermill": {
     "duration": 0.014584,
     "end_time": "2023-04-05T21:51:03.198220",
     "exception": false,
     "start_time": "2023-04-05T21:51:03.183636",
     "status": "completed"
    },
    "tags": []
   },
   "source": [
    "Then, we're going to use our model to predict the classification for each row un our feature matrix."
   ]
  },
  {
   "cell_type": "code",
   "execution_count": 24,
   "id": "9d7b7d02",
   "metadata": {
    "execution": {
     "iopub.execute_input": "2023-04-05T21:51:03.229232Z",
     "iopub.status.busy": "2023-04-05T21:51:03.228399Z",
     "iopub.status.idle": "2023-04-05T21:51:03.243957Z",
     "shell.execute_reply": "2023-04-05T21:51:03.242540Z"
    },
    "papermill": {
     "duration": 0.034499,
     "end_time": "2023-04-05T21:51:03.246754",
     "exception": false,
     "start_time": "2023-04-05T21:51:03.212255",
     "status": "completed"
    },
    "tags": []
   },
   "outputs": [
    {
     "data": {
      "text/plain": [
       "array([1, 1, 1, ..., 1, 1, 1])"
      ]
     },
     "execution_count": 24,
     "metadata": {},
     "output_type": "execute_result"
    }
   ],
   "source": [
    "y_pred = nb.predict(X_test_vect)\n",
    "\n",
    "y_pred"
   ]
  },
  {
   "cell_type": "markdown",
   "id": "27ddb900",
   "metadata": {
    "papermill": {
     "duration": 0.013819,
     "end_time": "2023-04-05T21:51:03.274849",
     "exception": false,
     "start_time": "2023-04-05T21:51:03.261030",
     "status": "completed"
    },
    "tags": []
   },
   "source": [
    "Finally, we will compare model classification predictions against real classifications."
   ]
  },
  {
   "cell_type": "code",
   "execution_count": 25,
   "id": "fc3402d0",
   "metadata": {
    "execution": {
     "iopub.execute_input": "2023-04-05T21:51:03.306030Z",
     "iopub.status.busy": "2023-04-05T21:51:03.305441Z",
     "iopub.status.idle": "2023-04-05T21:51:03.347276Z",
     "shell.execute_reply": "2023-04-05T21:51:03.345786Z"
    },
    "papermill": {
     "duration": 0.061528,
     "end_time": "2023-04-05T21:51:03.350561",
     "exception": false,
     "start_time": "2023-04-05T21:51:03.289033",
     "status": "completed"
    },
    "tags": []
   },
   "outputs": [
    {
     "name": "stdout",
     "output_type": "stream",
     "text": [
      "Accuracy: 80.35%\n",
      "\n",
      "F1 Score: 89.06\n",
      "\n",
      "Confusion Matrix:\n",
      " [[   95  4340]\n",
      " [  616 20169]]\n"
     ]
    }
   ],
   "source": [
    "from sklearn.metrics import accuracy_score, f1_score, confusion_matrix\n",
    "\n",
    "print(\"Accuracy: {:.2f}%\".format(accuracy_score(y_test, y_pred) * 100))\n",
    "print(\"\\nF1 Score: {:.2f}\".format(f1_score(y_test, y_pred) * 100))\n",
    "print(\"\\nConfusion Matrix:\\n\", confusion_matrix(y_test, y_pred))"
   ]
  },
  {
   "cell_type": "markdown",
   "id": "c4246b5c",
   "metadata": {
    "papermill": {
     "duration": 0.013912,
     "end_time": "2023-04-05T21:51:03.378924",
     "exception": false,
     "start_time": "2023-04-05T21:51:03.365012",
     "status": "completed"
    },
    "tags": []
   },
   "source": [
    "## References\n",
    "Antoni Sobkowicz. (2017). Steam Review Dataset (2017) [Data set]. Zenodo. https://doi.org/10.5281/zenodo.1000885\n",
    "\n",
    "Sarkar, D (2018, August 3rd). \n",
    "Text Wrangling & Pre-processing: A Practitioner’s Guide to NLP. KDnuggets. \n",
    "Retrieved March 6th 2023, from https://www.kdnuggets.com/2018/08/practitioners-guide-processing-understanding-text-2.html"
   ]
  }
 ],
 "metadata": {
  "kernelspec": {
   "display_name": "Python 3",
   "language": "python",
   "name": "python3"
  },
  "language_info": {
   "codemirror_mode": {
    "name": "ipython",
    "version": 3
   },
   "file_extension": ".py",
   "mimetype": "text/x-python",
   "name": "python",
   "nbconvert_exporter": "python",
   "pygments_lexer": "ipython3",
   "version": "3.7.12"
  },
  "papermill": {
   "default_parameters": {},
   "duration": 448.747138,
   "end_time": "2023-04-05T21:51:05.426171",
   "environment_variables": {},
   "exception": null,
   "input_path": "__notebook__.ipynb",
   "output_path": "__notebook__.ipynb",
   "parameters": {},
   "start_time": "2023-04-05T21:43:36.679033",
   "version": "2.4.0"
  }
 },
 "nbformat": 4,
 "nbformat_minor": 5
}
